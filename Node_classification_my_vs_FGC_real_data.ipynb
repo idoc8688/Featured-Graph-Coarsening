{
 "cells": [
  {
   "cell_type": "markdown",
   "metadata": {},
   "source": []
  },
  {
   "cell_type": "markdown",
   "metadata": {},
   "source": [
    "### Import Liberies"
   ]
  },
  {
   "cell_type": "code",
   "execution_count": 2,
   "metadata": {},
   "outputs": [
    {
     "name": "stdout",
     "output_type": "stream",
     "text": [
      "2.2.1\n"
     ]
    }
   ],
   "source": [
    "import torch\n",
    "print(torch.__version__)\n",
    "from torch import Tensor\n",
    "\n",
    "import networkx as nx\n",
    "from networkx.algorithms import community\n",
    "\n",
    "import numpy as np\n",
    "import matplotlib.pyplot as plt\n",
    "\n",
    "import math\n",
    "from tqdm import tqdm\n",
    "import seaborn as sns\n",
    "from sklearn.decomposition import FactorAnalysis\n",
    "\n",
    "import random\n",
    "from random import sample\n",
    "\n",
    "import os\n",
    "import collections\n",
    "\n",
    "import pandas as pd\n",
    "import scipy.sparse as sp\n",
    "\n",
    "from scipy.sparse import csr_matrix\n",
    "from scipy.sparse import csgraph\n",
    "from scipy.sparse.linalg import inv\n",
    "\n",
    "import torch_geometric\n",
    "from torch_geometric.utils import to_networkx\n",
    "from torch_geometric.datasets import Planetoid\n",
    "\n",
    "from torch_geometric.datasets import WebKB\n",
    "from torch_geometric.utils import to_dense_adj\n",
    "\n",
    "import solvers_implt as solvers"
   ]
  },
  {
   "cell_type": "markdown",
   "metadata": {},
   "source": [
    "## Create Data dir"
   ]
  },
  {
   "cell_type": "code",
   "execution_count": 3,
   "metadata": {},
   "outputs": [],
   "source": [
    "device = torch.device('cuda' if torch.cuda.is_available() else 'cpu')\n",
    "# maybe dont need\n",
    "data_dir = \"./data\" \n",
    "os.makedirs(data_dir, exist_ok=True)\n"
   ]
  },
  {
   "cell_type": "code",
   "execution_count": 4,
   "metadata": {},
   "outputs": [],
   "source": [
    "# dataset = os.path.join(os.getcwd(),'Cora')\n",
    "# dataset"
   ]
  },
  {
   "cell_type": "markdown",
   "metadata": {},
   "source": [
    "# Download Dataset"
   ]
  },
  {
   "cell_type": "code",
   "execution_count": 5,
   "metadata": {},
   "outputs": [
    {
     "name": "stdout",
     "output_type": "stream",
     "text": [
      "Data(x=[2708, 1433], edge_index=[2, 10556], y=[2708], train_mask=[2708], val_mask=[2708], test_mask=[2708])\n",
      "Num of features(X) and Graph size(W)\n",
      "torch.Size([2708, 1433]) torch.Size([2708, 2708])\n",
      "Num of Labels\n",
      "7\n",
      "torch.Size([2708, 2708])\n"
     ]
    }
   ],
   "source": [
    "dataset = Planetoid(root='./cora',name='Cora') # Cora, Citeseer\n",
    "print(dataset[0])\n",
    "adj = to_dense_adj(dataset[0].edge_index)\n",
    "adj = adj[0]\n",
    "labels = dataset[0].y\n",
    "labels = labels.numpy()\n",
    "\n",
    "X = dataset[0].x\n",
    "X = X.to_dense()\n",
    "N = X.shape[0]\n",
    "NO_OF_CLASSES =  len(set(np.array(dataset[0].y)))\n",
    "\n",
    "print('Num of features(X) and Graph size(W)')\n",
    "print(X.shape, adj.shape)\n",
    "print('Num of Labels')\n",
    "print(NO_OF_CLASSES)\n",
    "#nn = int(1*N)\n",
    "#X = X[:nn,:]\n",
    "#adj = adj[:nn,:nn]\n",
    "#labels = labels[:nn]\n",
    "#print(X.shape,adj.shape)\n",
    "\n",
    "def get_laplacian(adj):\n",
    "    b=torch.ones(adj.shape[0])\n",
    "    return torch.diag(adj@b)-adj\n",
    "\n",
    "L = get_laplacian(adj)\n",
    "print(L.shape)\n",
    "\n",
    "U, S, Vh = np.linalg.svd(L, hermitian=True)\n",
    "\n",
    "#eigenvalues, eigenvectors = np.linalg.eig(L)\n",
    "#eigenvalues = np.real(eigenvalues)\n",
    "#idx = np.argsort(S)[::-1]\n",
    "#print(eigenvalues) \n",
    "\n",
    "r=0.25\n",
    "k = round(r*N) # Coarsened graph's number of nodes i.e. k = r*ori_nodes\n",
    "U_k=U[:,:k] # column on U \n"
   ]
  },
  {
   "cell_type": "markdown",
   "metadata": {},
   "source": [
    "## General parmeters"
   ]
  },
  {
   "cell_type": "code",
   "execution_count": 8,
   "metadata": {},
   "outputs": [
    {
     "name": "stderr",
     "output_type": "stream",
     "text": [
      "  0%|          | 0/25 [00:00<?, ?it/s]"
     ]
    },
    {
     "name": "stdout",
     "output_type": "stream",
     "text": [
      " FGC  (XLX)\n",
      "24.098573112650172\n"
     ]
    },
    {
     "name": "stderr",
     "output_type": "stream",
     "text": [
      "  4%|▍         | 1/25 [00:45<18:14, 45.59s/it]"
     ]
    },
    {
     "name": "stdout",
     "output_type": "stream",
     "text": [
      " FGC  (gamma)\n",
      "-1671662.292450527\n",
      " FGC  (alpha)\n",
      "12079780.078690894\n",
      " FGC  (lambda)\n",
      "677000.0000000001\n",
      " FGC  (XLX)\n",
      "4624.995074035178\n"
     ]
    },
    {
     "name": "stderr",
     "output_type": "stream",
     "text": [
      "  8%|▊         | 2/25 [01:32<17:48, 46.44s/it]"
     ]
    },
    {
     "name": "stdout",
     "output_type": "stream",
     "text": [
      " FGC  (gamma)\n",
      "906607.0954510014\n",
      " FGC  (alpha)\n",
      "10355099.8835897\n",
      " FGC  (lambda)\n",
      "676999.9999999999\n",
      " FGC  (XLX)\n",
      "5718.085369673583\n"
     ]
    },
    {
     "name": "stderr",
     "output_type": "stream",
     "text": [
      " 12%|█▏        | 3/25 [02:17<16:48, 45.85s/it]"
     ]
    },
    {
     "name": "stdout",
     "output_type": "stream",
     "text": [
      " FGC  (gamma)\n",
      "1021634.3269551112\n",
      " FGC  (alpha)\n",
      "10092039.966606455\n",
      " FGC  (lambda)\n",
      "677000.0000000001\n",
      " FGC  (XLX)\n",
      "6115.127598008734\n",
      " FGC  (gamma)\n",
      "1055657.290743993\n",
      " FGC  (alpha)\n"
     ]
    },
    {
     "name": "stderr",
     "output_type": "stream",
     "text": [
      " 16%|█▌        | 4/25 [03:04<16:06, 46.03s/it]"
     ]
    },
    {
     "name": "stdout",
     "output_type": "stream",
     "text": [
      "9952575.641175682\n",
      " FGC  (lambda)\n",
      "677000.0000000001\n",
      " FGC  (XLX)\n",
      "6275.349226542997\n"
     ]
    },
    {
     "name": "stderr",
     "output_type": "stream",
     "text": [
      " 20%|██        | 5/25 [03:49<15:18, 45.95s/it]"
     ]
    },
    {
     "name": "stdout",
     "output_type": "stream",
     "text": [
      " FGC  (gamma)\n",
      "1068075.7704666036\n",
      " FGC  (alpha)\n",
      "9862329.391390245\n",
      " FGC  (lambda)\n",
      "677000.0000000001\n",
      " FGC  (XLX)\n",
      "6354.2968215488345\n",
      " FGC  (gamma)\n",
      "1074046.741211849\n"
     ]
    },
    {
     "name": "stderr",
     "output_type": "stream",
     "text": [
      " 24%|██▍       | 6/25 [04:37<14:44, 46.57s/it]"
     ]
    },
    {
     "name": "stdout",
     "output_type": "stream",
     "text": [
      " FGC  (alpha)\n",
      "9799735.33241217\n",
      " FGC  (lambda)\n",
      "677000.0000000001\n",
      " FGC  (XLX)\n",
      "6397.087146576063\n"
     ]
    },
    {
     "name": "stderr",
     "output_type": "stream",
     "text": [
      " 28%|██▊       | 7/25 [05:19<13:30, 45.02s/it]"
     ]
    },
    {
     "name": "stdout",
     "output_type": "stream",
     "text": [
      " FGC  (gamma)\n",
      "1076813.5402167973\n",
      " FGC  (alpha)\n",
      "9755431.87074465\n",
      " FGC  (lambda)\n",
      "677000.0000000001\n",
      " FGC  (XLX)\n",
      "6422.849156591452\n",
      " FGC  (gamma)\n",
      "1078421.0326447475\n",
      " FGC  (alpha)\n"
     ]
    },
    {
     "name": "stderr",
     "output_type": "stream",
     "text": [
      " 32%|███▏      | 8/25 [06:03<12:42, 44.86s/it]"
     ]
    },
    {
     "name": "stdout",
     "output_type": "stream",
     "text": [
      "9722257.497298816\n",
      " FGC  (lambda)\n",
      "677000.0000000001\n",
      " FGC  (XLX)\n",
      "6433.241327966254\n"
     ]
    },
    {
     "name": "stderr",
     "output_type": "stream",
     "text": [
      " 36%|███▌      | 9/25 [06:48<11:55, 44.74s/it]"
     ]
    },
    {
     "name": "stdout",
     "output_type": "stream",
     "text": [
      " FGC  (gamma)\n",
      "1079188.5169495107\n",
      " FGC  (alpha)\n",
      "9697711.909705877\n",
      " FGC  (lambda)\n",
      "677000.0000000001\n",
      " FGC  (XLX)\n",
      "6440.727736408286\n",
      " FGC  (gamma)\n",
      "1079943.8334676076\n"
     ]
    },
    {
     "name": "stderr",
     "output_type": "stream",
     "text": [
      " 40%|████      | 10/25 [07:34<11:16, 45.12s/it]"
     ]
    },
    {
     "name": "stdout",
     "output_type": "stream",
     "text": [
      " FGC  (alpha)\n",
      "9676805.298569346\n",
      " FGC  (lambda)\n",
      "676999.9999999999\n",
      " FGC  (XLX)\n",
      "6445.158910681048\n"
     ]
    },
    {
     "name": "stderr",
     "output_type": "stream",
     "text": [
      " 44%|████▍     | 11/25 [08:19<10:32, 45.15s/it]"
     ]
    },
    {
     "name": "stdout",
     "output_type": "stream",
     "text": [
      " FGC  (gamma)\n",
      "1080300.676170575\n",
      " FGC  (alpha)\n",
      "9659791.92811223\n",
      " FGC  (lambda)\n",
      "676999.9999999999\n",
      " FGC  (XLX)\n",
      "6441.1557294957165\n"
     ]
    },
    {
     "name": "stderr",
     "output_type": "stream",
     "text": [
      " 48%|████▊     | 12/25 [09:05<09:48, 45.24s/it]"
     ]
    },
    {
     "name": "stdout",
     "output_type": "stream",
     "text": [
      " FGC  (gamma)\n",
      "1080134.4282889322\n",
      " FGC  (alpha)\n",
      "9646178.943324642\n",
      " FGC  (lambda)\n",
      "676999.9999999999\n",
      " FGC  (XLX)\n",
      "6438.140462678606\n"
     ]
    },
    {
     "name": "stderr",
     "output_type": "stream",
     "text": [
      " 52%|█████▏    | 13/25 [09:49<08:59, 44.99s/it]"
     ]
    },
    {
     "name": "stdout",
     "output_type": "stream",
     "text": [
      " FGC  (gamma)\n",
      "1079924.2059795891\n",
      " FGC  (alpha)\n",
      "9634469.177470824\n",
      " FGC  (lambda)\n",
      "677000.0000000001\n",
      " FGC  (XLX)\n",
      "6435.517673704791\n"
     ]
    },
    {
     "name": "stderr",
     "output_type": "stream",
     "text": [
      " 56%|█████▌    | 14/25 [10:36<08:20, 45.53s/it]"
     ]
    },
    {
     "name": "stdout",
     "output_type": "stream",
     "text": [
      " FGC  (gamma)\n",
      "1079891.0299471472\n",
      " FGC  (alpha)\n",
      "9624034.012408834\n",
      " FGC  (lambda)\n",
      "677000.0000000001\n",
      " FGC  (XLX)\n",
      "6430.9237281871565\n",
      " FGC  (gamma)\n",
      "1079859.7336311934\n"
     ]
    },
    {
     "name": "stderr",
     "output_type": "stream",
     "text": [
      " 60%|██████    | 15/25 [11:22<07:36, 45.63s/it]"
     ]
    },
    {
     "name": "stdout",
     "output_type": "stream",
     "text": [
      " FGC  (alpha)\n",
      "9615829.865698513\n",
      " FGC  (lambda)\n",
      "677000.0000000001\n",
      " FGC  (XLX)\n",
      "6426.598596333739\n"
     ]
    },
    {
     "name": "stderr",
     "output_type": "stream",
     "text": [
      " 64%|██████▍   | 16/25 [12:07<06:51, 45.69s/it]"
     ]
    },
    {
     "name": "stdout",
     "output_type": "stream",
     "text": [
      " FGC  (gamma)\n",
      "1080052.9546886454\n",
      " FGC  (alpha)\n",
      "9607801.433873987\n",
      " FGC  (lambda)\n",
      "677000.0000000001\n",
      " FGC  (XLX)\n",
      "6420.274149096949\n"
     ]
    },
    {
     "name": "stderr",
     "output_type": "stream",
     "text": [
      " 68%|██████▊   | 17/25 [12:54<06:08, 46.07s/it]"
     ]
    },
    {
     "name": "stdout",
     "output_type": "stream",
     "text": [
      " FGC  (gamma)\n",
      "1080263.5226853902\n",
      " FGC  (alpha)\n",
      "9600756.088048432\n",
      " FGC  (lambda)\n",
      "677000.0000000001\n",
      " FGC  (XLX)\n",
      "6416.005919994126\n"
     ]
    },
    {
     "name": "stderr",
     "output_type": "stream",
     "text": [
      " 72%|███████▏  | 18/25 [13:39<05:18, 45.51s/it]"
     ]
    },
    {
     "name": "stdout",
     "output_type": "stream",
     "text": [
      " FGC  (gamma)\n",
      "1080470.1837869762\n",
      " FGC  (alpha)\n",
      "9594173.394871514\n",
      " FGC  (lambda)\n",
      "677000.0000000001\n",
      " FGC  (XLX)\n",
      "6417.751623643418\n",
      " FGC  (gamma)\n",
      "1080934.1668254705\n"
     ]
    },
    {
     "name": "stderr",
     "output_type": "stream",
     "text": [
      " 76%|███████▌  | 19/25 [14:24<04:32, 45.36s/it]"
     ]
    },
    {
     "name": "stdout",
     "output_type": "stream",
     "text": [
      " FGC  (alpha)\n",
      "9587721.021750668\n",
      " FGC  (lambda)\n",
      "677000.0000000001\n",
      " FGC  (XLX)\n",
      "6423.8655967107225\n",
      " FGC  (gamma)\n",
      "1081546.7795208346\n"
     ]
    },
    {
     "name": "stderr",
     "output_type": "stream",
     "text": [
      " 80%|████████  | 20/25 [15:09<03:47, 45.46s/it]"
     ]
    },
    {
     "name": "stdout",
     "output_type": "stream",
     "text": [
      " FGC  (alpha)\n",
      "9581605.345011955\n",
      " FGC  (lambda)\n",
      "677000.0000000001\n",
      " FGC  (XLX)\n",
      "6430.464999297312\n"
     ]
    },
    {
     "name": "stderr",
     "output_type": "stream",
     "text": [
      " 84%|████████▍ | 21/25 [15:54<03:00, 45.11s/it]"
     ]
    },
    {
     "name": "stdout",
     "output_type": "stream",
     "text": [
      " FGC  (gamma)\n",
      "1081972.498264845\n",
      " FGC  (alpha)\n",
      "9576801.81457739\n",
      " FGC  (lambda)\n",
      "676999.9999999999\n",
      " FGC  (XLX)\n",
      "6438.465556889678\n",
      " FGC  (gamma)\n",
      "1082326.769035676\n"
     ]
    },
    {
     "name": "stderr",
     "output_type": "stream",
     "text": [
      " 88%|████████▊ | 22/25 [16:42<02:18, 46.04s/it]"
     ]
    },
    {
     "name": "stdout",
     "output_type": "stream",
     "text": [
      " FGC  (alpha)\n",
      "9572693.986277906\n",
      " FGC  (lambda)\n",
      "677000.0000000001\n",
      " FGC  (XLX)\n",
      "6446.052041435133\n"
     ]
    },
    {
     "name": "stderr",
     "output_type": "stream",
     "text": [
      " 92%|█████████▏| 23/25 [17:26<01:31, 45.50s/it]"
     ]
    },
    {
     "name": "stdout",
     "output_type": "stream",
     "text": [
      " FGC  (gamma)\n",
      "1082618.952049974\n",
      " FGC  (alpha)\n",
      "9569260.688712796\n",
      " FGC  (lambda)\n",
      "676999.9999999997\n",
      " FGC  (XLX)\n",
      "6455.71073542104\n"
     ]
    },
    {
     "name": "stderr",
     "output_type": "stream",
     "text": [
      " 96%|█████████▌| 24/25 [18:11<00:45, 45.18s/it]"
     ]
    },
    {
     "name": "stdout",
     "output_type": "stream",
     "text": [
      " FGC  (gamma)\n",
      "1083220.303932838\n",
      " FGC  (alpha)\n",
      "9566071.730052251\n",
      " FGC  (lambda)\n",
      "677000.0000000001\n",
      " FGC  (XLX)\n",
      "6462.6388717181235\n"
     ]
    },
    {
     "name": "stderr",
     "output_type": "stream",
     "text": [
      "100%|██████████| 25/25 [18:55<00:00, 45.42s/it]\n"
     ]
    },
    {
     "name": "stdout",
     "output_type": "stream",
     "text": [
      " FGC  (gamma)\n",
      "1083770.176383436\n",
      " FGC  (alpha)\n",
      "9563193.458444027\n",
      " FGC  (lambda)\n",
      "677000.0000000001\n"
     ]
    },
    {
     "name": "stderr",
     "output_type": "stream",
     "text": [
      "  0%|          | 0/25 [00:00<?, ?it/s]"
     ]
    },
    {
     "name": "stdout",
     "output_type": "stream",
     "text": [
      " \n",
      " my  (ev) \n",
      "\n",
      "52.72517905743631\n"
     ]
    },
    {
     "name": "stderr",
     "output_type": "stream",
     "text": [
      "  4%|▍         | 1/25 [00:48<19:23, 48.50s/it]"
     ]
    },
    {
     "name": "stdout",
     "output_type": "stream",
     "text": [
      " my  (alpha)\n",
      "12068334.73358352\n",
      " my  (lambda)\n",
      "677000.0000000001\n",
      " \n",
      " my  (ev) \n",
      "\n",
      "227.28046983484654\n",
      " my  (alpha)\n"
     ]
    },
    {
     "name": "stderr",
     "output_type": "stream",
     "text": [
      "  8%|▊         | 2/25 [01:37<18:45, 48.94s/it]"
     ]
    },
    {
     "name": "stdout",
     "output_type": "stream",
     "text": [
      "10401725.186366234\n",
      " my  (lambda)\n",
      "677000.0000000001\n",
      " \n",
      " my  (ev) \n",
      "\n",
      "22825.574244613024\n",
      " my  (alpha)\n"
     ]
    },
    {
     "name": "stderr",
     "output_type": "stream",
     "text": [
      " 12%|█▏        | 3/25 [02:16<16:18, 44.50s/it]"
     ]
    },
    {
     "name": "stdout",
     "output_type": "stream",
     "text": [
      "10764056.072399834\n",
      " my  (lambda)\n",
      "676999.9999999997\n",
      " \n",
      " my  (ev) \n",
      "\n",
      "25814.761425536475\n"
     ]
    },
    {
     "name": "stderr",
     "output_type": "stream",
     "text": [
      " 16%|█▌        | 4/25 [02:59<15:20, 43.82s/it]"
     ]
    },
    {
     "name": "stdout",
     "output_type": "stream",
     "text": [
      " my  (alpha)\n",
      "10682299.023236003\n",
      " my  (lambda)\n",
      "677000.0000000001\n",
      " \n",
      " my  (ev) \n",
      "\n",
      "26218.58644771731\n",
      " my  (alpha)\n"
     ]
    },
    {
     "name": "stderr",
     "output_type": "stream",
     "text": [
      " 20%|██        | 5/25 [03:43<14:35, 43.79s/it]"
     ]
    },
    {
     "name": "stdout",
     "output_type": "stream",
     "text": [
      "10635415.995863736\n",
      " my  (lambda)\n",
      "677000.0000000001\n",
      " \n",
      " my  (ev) \n",
      "\n",
      "26339.92078627213\n"
     ]
    },
    {
     "name": "stderr",
     "output_type": "stream",
     "text": [
      " 24%|██▍       | 6/25 [04:25<13:40, 43.17s/it]"
     ]
    },
    {
     "name": "stdout",
     "output_type": "stream",
     "text": [
      " my  (alpha)\n",
      "10608362.025202248\n",
      " my  (lambda)\n",
      "677000.0000000001\n",
      " \n",
      " my  (ev) \n",
      "\n",
      "26396.165022300967\n",
      " my  (alpha)\n"
     ]
    },
    {
     "name": "stderr",
     "output_type": "stream",
     "text": [
      " 28%|██▊       | 7/25 [05:06<12:44, 42.46s/it]"
     ]
    },
    {
     "name": "stdout",
     "output_type": "stream",
     "text": [
      "10592660.284650281\n",
      " my  (lambda)\n",
      "677000.0000000001\n",
      " \n",
      " my  (ev) \n",
      "\n",
      "26418.811669884446\n",
      " my  (alpha)\n"
     ]
    },
    {
     "name": "stderr",
     "output_type": "stream",
     "text": [
      " 32%|███▏      | 8/25 [05:48<12:02, 42.48s/it]"
     ]
    },
    {
     "name": "stdout",
     "output_type": "stream",
     "text": [
      "10582540.142801382\n",
      " my  (lambda)\n",
      "677000.0000000001\n",
      " \n",
      " my  (ev) \n",
      "\n",
      "26430.44098373479\n",
      " my  (alpha)\n"
     ]
    },
    {
     "name": "stderr",
     "output_type": "stream",
     "text": [
      " 36%|███▌      | 9/25 [06:29<11:11, 41.94s/it]"
     ]
    },
    {
     "name": "stdout",
     "output_type": "stream",
     "text": [
      "10576333.96918744\n",
      " my  (lambda)\n",
      "677000.0000000001\n",
      " \n",
      " my  (ev) \n",
      "\n",
      "26441.3354189972\n",
      " my  (alpha)\n"
     ]
    },
    {
     "name": "stderr",
     "output_type": "stream",
     "text": [
      " 40%|████      | 10/25 [07:12<10:33, 42.20s/it]"
     ]
    },
    {
     "name": "stdout",
     "output_type": "stream",
     "text": [
      "10571059.980377594\n",
      " my  (lambda)\n",
      "676999.9999999997\n",
      " \n",
      " my  (ev) \n",
      "\n",
      "26449.67731350378\n",
      " my  (alpha)\n"
     ]
    },
    {
     "name": "stderr",
     "output_type": "stream",
     "text": [
      " 44%|████▍     | 11/25 [07:54<09:48, 42.05s/it]"
     ]
    },
    {
     "name": "stdout",
     "output_type": "stream",
     "text": [
      "10567522.439528069\n",
      " my  (lambda)\n",
      "676999.9999999999\n",
      " \n",
      " my  (ev) \n",
      "\n",
      "26455.888869839142\n",
      " my  (alpha)\n"
     ]
    },
    {
     "name": "stderr",
     "output_type": "stream",
     "text": [
      " 48%|████▊     | 12/25 [08:36<09:08, 42.20s/it]"
     ]
    },
    {
     "name": "stdout",
     "output_type": "stream",
     "text": [
      "10564459.293487776\n",
      " my  (lambda)\n",
      "677000.0000000001\n",
      " \n",
      " my  (ev) \n",
      "\n",
      "26459.95414633453\n",
      " my  (alpha)\n"
     ]
    },
    {
     "name": "stderr",
     "output_type": "stream",
     "text": [
      " 52%|█████▏    | 13/25 [09:18<08:23, 41.99s/it]"
     ]
    },
    {
     "name": "stdout",
     "output_type": "stream",
     "text": [
      "10561235.93559647\n",
      " my  (lambda)\n",
      "676999.9999999999\n",
      " \n",
      " my  (ev) \n",
      "\n",
      "26465.694746404453\n",
      " my  (alpha)\n"
     ]
    },
    {
     "name": "stderr",
     "output_type": "stream",
     "text": [
      " 56%|█████▌    | 14/25 [10:00<07:42, 42.08s/it]"
     ]
    },
    {
     "name": "stdout",
     "output_type": "stream",
     "text": [
      "10559011.124096174\n",
      " my  (lambda)\n",
      "677000.0000000001\n",
      " \n",
      " my  (ev) \n",
      "\n",
      "26476.072599066083\n",
      " my  (alpha)\n"
     ]
    },
    {
     "name": "stderr",
     "output_type": "stream",
     "text": [
      " 60%|██████    | 15/25 [10:41<06:58, 41.82s/it]"
     ]
    },
    {
     "name": "stdout",
     "output_type": "stream",
     "text": [
      "10557674.580760004\n",
      " my  (lambda)\n",
      "677000.0000000001\n",
      " \n",
      " my  (ev) \n",
      "\n",
      "26489.74926677194\n",
      " my  (alpha)\n"
     ]
    },
    {
     "name": "stderr",
     "output_type": "stream",
     "text": [
      " 64%|██████▍   | 16/25 [11:23<06:16, 41.85s/it]"
     ]
    },
    {
     "name": "stdout",
     "output_type": "stream",
     "text": [
      "10556775.304296672\n",
      " my  (lambda)\n",
      "676999.9999999999\n",
      " \n",
      " my  (ev) \n",
      "\n",
      "26503.254981298625\n",
      " my  (alpha)\n"
     ]
    },
    {
     "name": "stderr",
     "output_type": "stream",
     "text": [
      " 68%|██████▊   | 17/25 [12:04<05:32, 41.57s/it]"
     ]
    },
    {
     "name": "stdout",
     "output_type": "stream",
     "text": [
      "10556270.533154776\n",
      " my  (lambda)\n",
      "677000.0000000001\n",
      " \n",
      " my  (ev) \n",
      "\n",
      "26516.46154344653\n",
      " my  (alpha)\n"
     ]
    },
    {
     "name": "stderr",
     "output_type": "stream",
     "text": [
      " 72%|███████▏  | 18/25 [12:46<04:51, 41.69s/it]"
     ]
    },
    {
     "name": "stdout",
     "output_type": "stream",
     "text": [
      "10555546.46450065\n",
      " my  (lambda)\n",
      "677000.0000000001\n",
      " \n",
      " my  (ev) \n",
      "\n",
      "26531.714413295886\n",
      " my  (alpha)\n"
     ]
    },
    {
     "name": "stderr",
     "output_type": "stream",
     "text": [
      " 76%|███████▌  | 19/25 [13:28<04:10, 41.68s/it]"
     ]
    },
    {
     "name": "stdout",
     "output_type": "stream",
     "text": [
      "10554790.312063918\n",
      " my  (lambda)\n",
      "676999.9999999999\n",
      " \n",
      " my  (ev) \n",
      "\n",
      "26546.183489866387\n"
     ]
    },
    {
     "name": "stderr",
     "output_type": "stream",
     "text": [
      " 80%|████████  | 20/25 [14:10<03:29, 41.93s/it]"
     ]
    },
    {
     "name": "stdout",
     "output_type": "stream",
     "text": [
      " my  (alpha)\n",
      "10554393.85987003\n",
      " my  (lambda)\n",
      "677000.0000000001\n",
      " \n",
      " my  (ev) \n",
      "\n",
      "26553.544771594872\n",
      " my  (alpha)\n"
     ]
    },
    {
     "name": "stderr",
     "output_type": "stream",
     "text": [
      " 84%|████████▍ | 21/25 [14:51<02:46, 41.50s/it]"
     ]
    },
    {
     "name": "stdout",
     "output_type": "stream",
     "text": [
      "10553971.224170778\n",
      " my  (lambda)\n",
      "677000.0000000001\n",
      " \n",
      " my  (ev) \n",
      "\n",
      "26554.91494164268\n",
      " my  (alpha)\n"
     ]
    },
    {
     "name": "stderr",
     "output_type": "stream",
     "text": [
      " 88%|████████▊ | 22/25 [15:33<02:05, 41.82s/it]"
     ]
    },
    {
     "name": "stdout",
     "output_type": "stream",
     "text": [
      "10553460.557692885\n",
      " my  (lambda)\n",
      "677000.0000000001\n",
      " \n",
      " my  (ev) \n",
      "\n",
      "26557.97741278333\n",
      " my  (alpha)\n"
     ]
    },
    {
     "name": "stderr",
     "output_type": "stream",
     "text": [
      " 92%|█████████▏| 23/25 [16:12<01:21, 40.86s/it]"
     ]
    },
    {
     "name": "stdout",
     "output_type": "stream",
     "text": [
      "10552770.13547588\n",
      " my  (lambda)\n",
      "677000.0000000001\n",
      " \n",
      " my  (ev) \n",
      "\n",
      "26563.736982443632\n",
      " my  (alpha)\n"
     ]
    },
    {
     "name": "stderr",
     "output_type": "stream",
     "text": [
      " 96%|█████████▌| 24/25 [16:53<00:40, 40.85s/it]"
     ]
    },
    {
     "name": "stdout",
     "output_type": "stream",
     "text": [
      "10552182.940552825\n",
      " my  (lambda)\n",
      "677000.0000000001\n",
      " \n",
      " my  (ev) \n",
      "\n",
      "26566.71178752766\n",
      " my  (alpha)\n"
     ]
    },
    {
     "name": "stderr",
     "output_type": "stream",
     "text": [
      "100%|██████████| 25/25 [17:32<00:00, 42.11s/it]"
     ]
    },
    {
     "name": "stdout",
     "output_type": "stream",
     "text": [
      "10551900.844444029\n",
      " my  (lambda)\n",
      "677000.0000000001\n"
     ]
    },
    {
     "name": "stderr",
     "output_type": "stream",
     "text": [
      "\n"
     ]
    }
   ],
   "source": [
    "overall_loss = []\n",
    "overall_loss_my = []\n",
    "iterations = 25 # Number of iterations our objective function will run.\n",
    "#print(\"Shape of the data matrix (p x n): \", X_now.shape)\n",
    "\n",
    "# Hyperparameters: lambda, beta, alpha, gamma\n",
    "lambda_base = 500\n",
    "beta_base = 0\n",
    "alpha_base = 500\n",
    "gamma_base = X.shape[1]/2\n",
    "\n",
    "features = X.numpy()\n",
    "L_arr=L.numpy()\n",
    "obj = solvers.solver_v2(L_arr, features, k, lambda_base, beta_base, alpha_base, gamma_base) \n",
    "C_0, X_t_0, loss_ls = obj.fit(iterations)\n",
    "overall_loss.extend(loss_ls)\n",
    "\n",
    "lambda_my = 500\n",
    "beta_my = 0\n",
    "alpha_my = 500\n",
    "gamma_my = X.shape[1]/2\n",
    "my_ev_param=500\n",
    "\n",
    "obj_my = solvers.my_method(L_arr, features, k, U_k, lambda_my, beta_my, alpha_my, gamma_my,my_ev_param)\n",
    "\n",
    "C_0_my, X_t_0_my, loss_ls_my = obj_my.fit(iterations)\n",
    "overall_loss_my.extend(loss_ls_my)\n"
   ]
  },
  {
   "cell_type": "code",
   "execution_count": 9,
   "metadata": {},
   "outputs": [
    {
     "data": {
      "image/png": "[encoded data removed]",
      "text/plain": [
       "<Figure size 640x480 with 1 Axes>"
      ]
     },
     "metadata": {},
     "output_type": "display_data"
    }
   ],
   "source": [
    "import matplotlib.pyplot as plt\n",
    "\n",
    "plt.plot(overall_loss, label='FGC')\n",
    "\n",
    "# Create a plot for the second list\n",
    "plt.plot(overall_loss_my, label='my')\n",
    "\n",
    "# Add title, labels, and legend\n",
    "plt.title('Comparison of Two methods')\n",
    "plt.xlabel('Index')\n",
    "plt.ylabel('Value')\n",
    "plt.legend()\n",
    "\n",
    "# Show the plot\n",
    "plt.show()\n",
    "\n",
    "## dont need, use implementation file"
   ]
  },
  {
   "cell_type": "code",
   "execution_count": 12,
   "metadata": {},
   "outputs": [
    {
     "name": "stdout",
     "output_type": "stream",
     "text": [
      " FGC eigen_error  (REE)\n",
      "0.2066787969491575\n",
      " my eigen_error  (REE)\n",
      "0.7208566497644574\n"
     ]
    },
    {
     "data": {
      "image/png": "[encoded data removed]",
      "text/plain": [
       "<Figure size 640x480 with 1 Axes>"
      ]
     },
     "metadata": {},
     "output_type": "display_data"
    }
   ],
   "source": [
    "\n",
    "# compare C_0 (FGC), C_0_my\n",
    "eigen_values,eigenvectors=np.linalg.eigh(L_arr)\n",
    "\n",
    "eigen_values_all=np.sort(eigen_values)\n",
    "\n",
    "#C_0_arr=C_0.numpy()\n",
    "#C_0_my_arr=C_0_my.numpy()\n",
    "FGC_eigen_values,FGC_eigenvector=np.linalg.eigh(C_0.T@L_arr@C_0)\n",
    "my_eigen_values,FGC_eigenvector=np.linalg.eigh(C_0_my.T@L_arr@C_0_my)\n",
    "\n",
    "FGC_eigen_values_all=np.sort(FGC_eigen_values)\n",
    "my_eigen_values_all=np.sort(my_eigen_values)\n",
    "\n",
    "\n",
    "eigen_values_k=eigen_values_all[-100:] # take the biggest k eigenvalues\n",
    "FGC_eigen_values_k=FGC_eigen_values_all[-100:]\n",
    "my_eigen_values_k=my_eigen_values_all[-100:]\n",
    "\n",
    "#eigen_values_k=eigen_values_all[1:100] # take the biggest k eigenvalues\n",
    "#FGC_eigen_values_k=FGC_eigen_values_all[1:100]\n",
    "#my_eigen_values_k=my_eigen_values_all[1:100]\n",
    "\n",
    "temp_FGC=0\n",
    "temp_my=0\n",
    "\n",
    "for j in range(len(eigen_values_k)):\n",
    "  temp_FGC=temp_FGC+(abs(FGC_eigen_values_k[j]-eigen_values_k[j])/eigen_values_k[j])\n",
    "  temp_my=temp_my+(abs(my_eigen_values_k[j]-eigen_values_k[j])/eigen_values_k[j])\n",
    "eigenerror_FGC=temp_FGC/len(eigen_values_k)\n",
    "eigenerror_my=temp_my/len(eigen_values_k)\n",
    "\n",
    "print(\" FGC eigen_error  (REE)\")\n",
    "print(eigenerror_FGC)\n",
    "print(\" my eigen_error  (REE)\")\n",
    "print(eigenerror_my)\n",
    "\n",
    "\n",
    "plt.plot(eigen_values_k, label=\"original\")\n",
    "plt.plot(my_eigen_values_k, label=\"my coarsened\")\n",
    "plt.plot(FGC_eigen_values_k, label=\"FGC coarsened\")\n",
    "plt.title('Eigen_value_comparison')\n",
    "plt.legend()\n",
    "plt.show()\n"
   ]
  },
  {
   "cell_type": "code",
   "execution_count": 11,
   "metadata": {},
   "outputs": [
    {
     "name": "stdout",
     "output_type": "stream",
     "text": [
      " FGC Hyperbolic Error  (HE)\n",
      "2.1543473225363736\n",
      " my Hyperbolic Error  (HE)\n",
      "2.110691716146093\n",
      " Reconstruction Error  (RE)\n",
      "5.045890274611453\n",
      " Reconstruction Error  (RE)\n",
      "4.588086839827845\n"
     ]
    }
   ],
   "source": [
    "def HE(u,v):\n",
    "    X_arr=X.numpy()\n",
    "    return np.arccosh(1+((pow(np.linalg.norm((u-v)@X_arr),2)*pow(np.linalg.norm(X_arr),2))/(2*np.trace(X_arr.T@u@X_arr)*np.trace(X_arr.T@v@X_arr))))\n",
    "\n",
    "P_0=np.linalg.pinv(C_0)\n",
    "P_0_my=np.linalg.pinv(C_0_my)\n",
    "\n",
    "\n",
    "L_FGC=P_0.T@C_0.T@L_arr@C_0@P_0\n",
    "L_my=P_0_my.T@C_0_my.T@L_arr@C_0_my@P_0_my\n",
    "FGC_HE_error=HE(L_FGC,L_arr)\n",
    "my_HE_error=HE(L_my,L_arr)\n",
    "\n",
    "\n",
    "print(\" FGC Hyperbolic Error  (HE)\")\n",
    "print(FGC_HE_error)\n",
    "print(\" my Hyperbolic Error  (HE)\")\n",
    "print(my_HE_error)\n",
    "\n",
    "LL_FGC=(L_arr-L_FGC)\n",
    "LL_my=(L_arr-L_my)\n",
    "\n",
    "FGC_RE_error=np.log(pow(np.linalg.norm(LL_FGC),2)/k)\n",
    "my_RE_error=np.log(pow(np.linalg.norm(LL_my),2)/k)\n",
    "\n",
    "print(\" Reconstruction Error  (RE)\")\n",
    "print(FGC_RE_error)\n",
    "print(\" Reconstruction Error  (RE)\")\n",
    "print(my_RE_error)"
   ]
  },
  {
   "cell_type": "markdown",
   "metadata": {},
   "source": [
    "### Define GCN"
   ]
  },
  {
   "cell_type": "code",
   "execution_count": 13,
   "metadata": {},
   "outputs": [],
   "source": [
    "import torch.nn.functional as F\n",
    "from torch_geometric.nn import GCNConv\n",
    "\n",
    "\n",
    "class Net(torch.nn.Module):\n",
    "    def __init__(self):\n",
    "        super(Net, self).__init__()\n",
    "        self.conv1 = GCNConv(X.shape[1], 64)\n",
    "        self.conv2 = GCNConv(64, NO_OF_CLASSES)\n",
    "\n",
    "    def reset_parameters(self):\n",
    "        self.conv1.reset_parameters()\n",
    "        self.conv2.reset_parameters()\n",
    "\n",
    "    def forward(self, x, edge_index):\n",
    "\n",
    "        #print(\"Checking 1: x\", x.shape, \"Edge index:\", edge_index.shape)\n",
    "        x = self.conv1(x, edge_index)\n",
    "        #print(\"Checking 2: convolution done, new x:\", x.shape)\n",
    "        x = F.relu(x)\n",
    "        #print(\"Checking 3: x\", x.shape, \"training:\", self.training)\n",
    "        x = F.dropout(x, training=self.training)\n",
    "        #print(\"Checking 4: dropout done new x\", x.shape, \"Edge index:\", edge_index.shape)\n",
    "        x = self.conv2(x, edge_index)\n",
    "        #print(\"Checking 5: x\", x.shape)\n",
    "\n",
    "        return F.log_softmax(x, dim=1)\n"
   ]
  },
  {
   "cell_type": "code",
   "execution_count": 14,
   "metadata": {},
   "outputs": [],
   "source": [
    "def get_accuracy(C_0,L,X_t_0):\n",
    "    global labels, NO_OF_CLASSES,k,N\n",
    "    t=[]\n",
    "    for i in [1,2,3,4,5,6,7,8,9,10]: \n",
    "        C_0_new=np.zeros(C_0.shape)\n",
    "        for i in range(C_0.shape[0]):\n",
    "            C_0_new[i][np.argmax(C_0[i])]=1\n",
    "        # print(C_0_new)\n",
    "        # C_0_new=C_0\n",
    "        from scipy import sparse\n",
    "        #Lc=C_0.T@L@C_0\n",
    "        Lc=C_0_new.T@L@C_0_new\n",
    "        # print(\"L:\", Lc.shape)\n",
    "        # Lc=L_new\n",
    "        #print(Lc)\n",
    "        Wc=(-1*Lc)*(1-np.eye(Lc.shape[0]))\n",
    "        # print(\"W:\", Wc.shape)\n",
    "        Wc[Wc<0.1]=0\n",
    "        Wc=sparse.csr_matrix(Wc)\n",
    "        Wc = Wc.tocoo()\n",
    "        row = torch.from_numpy(Wc.row).to(torch.long)\n",
    "        col = torch.from_numpy(Wc.col).to(torch.long)\n",
    "        edge_index_coarsen2 = torch.stack([row, col], dim=0)\n",
    "        #print(\"edgecoarsen:\", edge_index_coarsen2.shape)\n",
    "        edge_weight = torch.from_numpy(Wc.data)\n",
    "        #print(\"edgeweight:\", edge_weight.shape)\n",
    "        def one_hot(x, class_count):\n",
    "            return torch.eye(class_count)[x, :]\n",
    "\n",
    "        device = torch.device('cpu')\n",
    "        labels=labels\n",
    "        Y = labels\n",
    "        #print(\"Y:\", Y.shape)\n",
    "        Y = one_hot(Y,NO_OF_CLASSES)\n",
    "        # NO_OF_CLASSES=Y.shape[1]\n",
    "        P=np.linalg.pinv(C_0_new)\n",
    "        labels_coarse = torch.argmax(torch.sparse.mm(torch.Tensor(P).double() , Y.double()).double() , 1)\n",
    "        labels_c=labels_coarse\n",
    "        #print(\"Lables:\", labels_coarse.shape)\n",
    "\n",
    "        #torch.Tensor(C2)@X\n",
    "        Wc=Wc.toarray()\n",
    "        #Wc[Wc<0.01]=0\n",
    "        C2=np.linalg.pinv(C_0_new)\n",
    "        model=Net().to(device)\n",
    "        device = torch.device('cpu')\n",
    "        lr=0.01\n",
    "        decay=0.0001\n",
    "        # try:\n",
    "        #   X=np.array(features.todense())\n",
    "        # except:\n",
    "        #   X = np.array(features)\n",
    "        #print(\"X:\",X.shape)\n",
    "        \n",
    "        optimizer = torch.optim.Adam(model.parameters(), lr=lr, weight_decay=decay)\n",
    "        # criterion=torch.nn.CrossEntropyLoss()\n",
    "        x=sample(range(0, int(k)), k)\n",
    "      \n",
    "        from datetime import datetime\n",
    "        #Xt=P@X\n",
    "        Xt=X_t_0.numpy()\n",
    "        def train():\n",
    "            model.train()\n",
    "            optimizer.zero_grad()\n",
    "            out = model(torch.Tensor(Xt).to(device),edge_index_coarsen2)\n",
    "            loss = F.nll_loss(out[x], labels_coarse[x])\n",
    "            loss.backward()\n",
    "            optimizer.step()\n",
    "            return loss\n",
    "        now1 = datetime.now()\n",
    "        losses=[]\n",
    "        for epoch in range(60):\n",
    "            loss=train()\n",
    "            losses.append(loss)\n",
    "            if(epoch%10==0):\n",
    "                print(f'Epoch: {epoch:03d},loss: {loss:.4f}')\n",
    "        now2 = datetime.now()        \n",
    "        pred=model(torch.Tensor(Xt).to(device),edge_index_coarsen2).argmax(dim=1)        \n",
    "        def train_accuracy():\n",
    "            model.eval()\n",
    "            correct = (pred[x] == labels_coarse[x]).sum()\n",
    "            acc = int(correct) /len(x)\n",
    "            return acc\n",
    "    \n",
    "        t+=[(now2-now1).total_seconds()]\n",
    "\n",
    "        zz=sample(range(0, int(N)), N)\n",
    "        Wc=sparse.csr_matrix(adj)\n",
    "        Wc = Wc.tocoo()\n",
    "        row = torch.from_numpy(Wc.row).to(torch.long)\n",
    "        col = torch.from_numpy(Wc.col).to(torch.long)\n",
    "        edge_index_coarsen = torch.stack([row, col], dim=0)\n",
    "        edge_weight = torch.from_numpy(Wc.data)\n",
    "        pred=model(torch.Tensor(X),edge_index_coarsen).argmax(dim=1)\n",
    "        pred=np.array(pred)\n",
    "        correct =(pred[zz]==labels[zz]).sum()\n",
    "        acc = int(correct) /N\n",
    "        return acc\n",
    "\n"
   ]
  },
  {
   "cell_type": "code",
   "execution_count": 31,
   "metadata": {},
   "outputs": [
    {
     "name": "stdout",
     "output_type": "stream",
     "text": [
      "Epoch: 000,loss: 1.9469\n",
      "Epoch: 010,loss: 1.6460\n",
      "Epoch: 020,loss: 1.4044\n",
      "Epoch: 030,loss: 1.1654\n",
      "Epoch: 040,loss: 1.0028\n",
      "Epoch: 050,loss: 0.9091\n",
      "Accuracy = 0.8297636632200887 500 0 500 716.5\n",
      "Average accuracy = 82.97636632200887 +/- 0.0\n"
     ]
    }
   ],
   "source": [
    "lambda_param = 500\n",
    "beta_param =  0 \n",
    "alpha_param = 500\n",
    "gamma_param = X.shape[1]/2\n",
    "\n",
    "C_0_t = torch.from_numpy(C_0)\n",
    "X_t_0_t = torch.from_numpy(X_t_0)\n",
    "av = []\n",
    "acc = get_accuracy(C_0_t,L_arr,X_t_0_t)\n",
    "av.append(acc)\n",
    "print(\"Accuracy = \" + str(acc) + \" \" + str(lambda_param)+\" \" + str(beta_param)+\" \"+str(alpha_param)+\" \"+str(gamma_param))\n",
    "print(\"Average accuracy = \" + str(np.mean(av)*100)  + \" +/- \" + str(np.std(av)*100)) "
   ]
  },
  {
   "cell_type": "code",
   "execution_count": 25,
   "metadata": {},
   "outputs": [
    {
     "name": "stdout",
     "output_type": "stream",
     "text": [
      "Epoch: 000,loss: 1.9482\n",
      "Epoch: 010,loss: 1.2615\n",
      "Epoch: 020,loss: 0.7816\n",
      "Epoch: 030,loss: 0.5068\n",
      "Epoch: 040,loss: 0.3414\n",
      "Epoch: 050,loss: 0.2747\n",
      "Accuracy = 0.8076070901033974 500 0 500 716.5\n",
      "Average accuracy = 80.76070901033974 +/- 0.0\n"
     ]
    }
   ],
   "source": [
    "lambda_param = 500\n",
    "beta_param =  0 \n",
    "alpha_param = 500\n",
    "gamma_param = X.shape[1]/2\n",
    "\n",
    "C_0_t = torch.from_numpy(C_0_my)\n",
    "X_t_0_t = torch.from_numpy(X_t_0_my)\n",
    "av = []\n",
    "acc = get_accuracy(C_0_t,L_arr,X_t_0_t)\n",
    "av.append(acc)\n",
    "print(\"Accuracy = \" + str(acc) + \" \" + str(lambda_param)+\" \" + str(beta_param)+\" \"+str(alpha_param)+\" \"+str(gamma_param))\n",
    "print(\"Average accuracy = \" + str(np.mean(av)*100)  + \" +/- \" + str(np.std(av)*100)) "
   ]
  },
  {
   "cell_type": "markdown",
   "metadata": {},
   "source": [
    "# My exp parameters"
   ]
  },
  {
   "cell_type": "code",
   "execution_count": null,
   "metadata": {},
   "outputs": [],
   "source": [
    "overall_loss_my = []\n",
    "iterations = 10 \n",
    "\n",
    "for i in [0.05, 5, 50, 500,5000,5000]:\n",
    "\n",
    "    print('%%%%%%%%%%%\\n')\n",
    "    print ('my_ev_param = ', i)\n",
    "    print('%%%%%%%%%%%\\n')\n",
    "    lambda_my = 500\n",
    "    beta_my = 0\n",
    "    alpha_my = 500\n",
    "    gamma_my = X.shape[1]/2\n",
    "    my_ev_param=i\n",
    "\n",
    "    obj_my = solvers.my_method(L_arr, features, k, U_k, lambda_my, beta_my, alpha_my, gamma_my,my_ev_param)\n",
    "\n",
    "    C_0_my, X_t_0_my, loss_ls_my = obj_my.fit(iterations)\n",
    "    overall_loss_my.extend(loss_ls_my)\n",
    "\n",
    "    C_0_t = torch.from_numpy(C_0_my)\n",
    "    X_t_0_t = torch.from_numpy(X_t_0_my)\n",
    "    av = []\n",
    "    for ii in range(10):\n",
    "        acc = get_accuracy(C_0_t,L_arr,X_t_0_t)\n",
    "        av.append(acc)\n",
    "    print(\"Accuracy = \" + str(acc) + \" \" + str(lambda_param)+\" \" + str(beta_param)+\" \"+str(alpha_param)+\" \"+str(gamma_param))\n",
    "    print(\"Average accuracy = \" + str(np.mean(av)*100)  + \" +/- \" + str(np.std(av)*100)) "
   ]
  }
 ],
 "metadata": {
  "kernelspec": {
   "display_name": "DGL_hw_2_Alchemy",
   "language": "python",
   "name": "python3"
  },
  "language_info": {
   "codemirror_mode": {
    "name": "ipython",
    "version": 3
   },
   "file_extension": ".py",
   "mimetype": "text/x-python",
   "name": "python",
   "nbconvert_exporter": "python",
   "pygments_lexer": "ipython3",
   "version": "3.9.18"
  }
 },
 "nbformat": 4,
 "nbformat_minor": 2
}

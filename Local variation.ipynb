{
 "cells": [
  {
   "cell_type": "markdown",
   "id": "1241c241",
   "metadata": {},
   "source": [
    "# Experiments with LVN and LVE"
   ]
  },
  {
   "cell_type": "code",
   "execution_count": 1,
   "id": "1eaf075c",
   "metadata": {},
   "outputs": [
    {
     "name": "stdout",
     "output_type": "stream",
     "text": [
      "Requirement already satisfied: deeprobust in c:\\users\\user\\anaconda3\\lib\\site-packages (0.2.4)\n",
      "Requirement already satisfied: gensim<4.0,>=3.8 in c:\\users\\user\\anaconda3\\lib\\site-packages (from deeprobust) (3.8.3)\n",
      "Requirement already satisfied: numba>=0.48.0 in c:\\users\\user\\anaconda3\\lib\\site-packages (from deeprobust) (0.53.1)\n",
      "Requirement already satisfied: numpy>=1.17.1 in c:\\users\\user\\anaconda3\\lib\\site-packages (from deeprobust) (1.20.1)\n",
      "Requirement already satisfied: scikit-learn>=0.22.1 in c:\\users\\user\\anaconda3\\lib\\site-packages (from deeprobust) (0.24.1)\n",
      "Requirement already satisfied: torchvision>=0.4.0 in c:\\users\\user\\anaconda3\\lib\\site-packages (from deeprobust) (0.12.0)\n",
      "Requirement already satisfied: texttable>=1.6.2 in c:\\users\\user\\anaconda3\\lib\\site-packages (from deeprobust) (1.6.4)\n",
      "Requirement already satisfied: scikit-image>=0.0 in c:\\users\\user\\anaconda3\\lib\\site-packages (from deeprobust) (0.18.1)\n",
      "Requirement already satisfied: Pillow>=7.0.0 in c:\\users\\user\\anaconda3\\lib\\site-packages (from deeprobust) (8.2.0)\n",
      "Requirement already satisfied: tqdm>=3.0 in c:\\users\\user\\anaconda3\\lib\\site-packages (from deeprobust) (4.59.0)\n",
      "Requirement already satisfied: networkx>=2.4 in c:\\users\\user\\anaconda3\\lib\\site-packages (from deeprobust) (2.5)\n",
      "Requirement already satisfied: torch>=1.2.0 in c:\\users\\user\\anaconda3\\lib\\site-packages (from deeprobust) (1.11.0)\n",
      "Requirement already satisfied: tensorboardX>=2.0 in c:\\users\\user\\anaconda3\\lib\\site-packages (from deeprobust) (2.5)\n",
      "Requirement already satisfied: matplotlib>=3.1.1 in c:\\users\\user\\anaconda3\\lib\\site-packages (from deeprobust) (3.3.4)\n",
      "Requirement already satisfied: scipy>=1.3.1 in c:\\users\\user\\anaconda3\\lib\\site-packages (from deeprobust) (1.6.2)\n",
      "Requirement already satisfied: smart-open>=1.8.1 in c:\\users\\user\\anaconda3\\lib\\site-packages (from gensim<4.0,>=3.8->deeprobust) (6.0.0)\n",
      "Requirement already satisfied: six>=1.5.0 in c:\\users\\user\\anaconda3\\lib\\site-packages (from gensim<4.0,>=3.8->deeprobust) (1.15.0)\n",
      "Requirement already satisfied: Cython==0.29.14 in c:\\users\\user\\anaconda3\\lib\\site-packages (from gensim<4.0,>=3.8->deeprobust) (0.29.14)\n",
      "Requirement already satisfied: kiwisolver>=1.0.1 in c:\\users\\user\\anaconda3\\lib\\site-packages (from matplotlib>=3.1.1->deeprobust) (1.3.1)\n",
      "Requirement already satisfied: pyparsing!=2.0.4,!=2.1.2,!=2.1.6,>=2.0.3 in c:\\users\\user\\anaconda3\\lib\\site-packages (from matplotlib>=3.1.1->deeprobust) (2.4.7)\n",
      "Requirement already satisfied: cycler>=0.10 in c:\\users\\user\\anaconda3\\lib\\site-packages (from matplotlib>=3.1.1->deeprobust) (0.10.0)\n",
      "Requirement already satisfied: python-dateutil>=2.1 in c:\\users\\user\\anaconda3\\lib\\site-packages (from matplotlib>=3.1.1->deeprobust) (2.8.1)\n",
      "Requirement already satisfied: decorator>=4.3.0 in c:\\users\\user\\anaconda3\\lib\\site-packages (from networkx>=2.4->deeprobust) (5.0.9)\n",
      "Requirement already satisfied: llvmlite<0.37,>=0.36.0rc1 in c:\\users\\user\\anaconda3\\lib\\site-packages (from numba>=0.48.0->deeprobust) (0.36.0)\n",
      "Requirement already satisfied: setuptools in c:\\users\\user\\anaconda3\\lib\\site-packages (from numba>=0.48.0->deeprobust) (52.0.0.post20210125)\n",
      "Requirement already satisfied: imageio>=2.3.0 in c:\\users\\user\\anaconda3\\lib\\site-packages (from scikit-image>=0.0->deeprobust) (2.9.0)\n",
      "Requirement already satisfied: tifffile>=2019.7.26 in c:\\users\\user\\anaconda3\\lib\\site-packages (from scikit-image>=0.0->deeprobust) (2021.4.8)\n",
      "Requirement already satisfied: PyWavelets>=1.1.1 in c:\\users\\user\\anaconda3\\lib\\site-packages (from scikit-image>=0.0->deeprobust) (1.1.1)\n",
      "Requirement already satisfied: threadpoolctl>=2.0.0 in c:\\users\\user\\anaconda3\\lib\\site-packages (from scikit-learn>=0.22.1->deeprobust) (2.1.0)\n",
      "Requirement already satisfied: joblib>=0.11 in c:\\users\\user\\anaconda3\\lib\\site-packages (from scikit-learn>=0.22.1->deeprobust) (1.0.1)\n",
      "Requirement already satisfied: protobuf>=3.8.0 in c:\\users\\user\\anaconda3\\lib\\site-packages (from tensorboardX>=2.0->deeprobust) (3.17.3)\n",
      "Requirement already satisfied: typing-extensions in c:\\users\\user\\anaconda3\\lib\\site-packages (from torch>=1.2.0->deeprobust) (3.7.4.3)\n",
      "Requirement already satisfied: requests in c:\\users\\user\\anaconda3\\lib\\site-packages (from torchvision>=0.4.0->deeprobust) (2.25.1)\n",
      "Requirement already satisfied: chardet<5,>=3.0.2 in c:\\users\\user\\anaconda3\\lib\\site-packages (from requests->torchvision>=0.4.0->deeprobust) (4.0.0)\n",
      "Requirement already satisfied: idna<3,>=2.5 in c:\\users\\user\\anaconda3\\lib\\site-packages (from requests->torchvision>=0.4.0->deeprobust) (2.10)\n",
      "Requirement already satisfied: certifi>=2017.4.17 in c:\\users\\user\\anaconda3\\lib\\site-packages (from requests->torchvision>=0.4.0->deeprobust) (2021.10.8)\n",
      "Requirement already satisfied: urllib3<1.27,>=1.21.1 in c:\\users\\user\\anaconda3\\lib\\site-packages (from requests->torchvision>=0.4.0->deeprobust) (1.26.4)\n"
     ]
    }
   ],
   "source": [
    "!pip install deeprobust"
   ]
  },
  {
   "cell_type": "code",
   "execution_count": 2,
   "id": "025e5075",
   "metadata": {},
   "outputs": [
    {
     "name": "stdout",
     "output_type": "stream",
     "text": [
      "No module named 'torch_sparse'\n"
     ]
    },
    {
     "name": "stderr",
     "output_type": "stream",
     "text": [
      "C:\\Users\\USER\\anaconda3\\lib\\site-packages\\deeprobust\\graph\\data\\__init__.py:9: UserWarning: Please install pytorch geometric if you would like to use the datasets from pytorch geometric. See details in https://pytorch-geometric.readthedocs.io/en/latest/notes/installation.html\n",
      "  warnings.warn(\"Please install pytorch geometric if you \" +\n"
     ]
    }
   ],
   "source": [
    "%load_ext autoreload\n",
    "%autoreload 2\n",
    "%matplotlib inline\n",
    "from IPython.core.display import display, HTML\n",
    "display(HTML(\"<style>.container { width:90% !important; }</style>\"))\n",
    "\n",
    "from networkx.generators.random_graphs import erdos_renyi_graph\n",
    "from networkx.generators.random_graphs import barabasi_albert_graph\n",
    "from networkx.generators.community import stochastic_block_model\n",
    "from networkx.generators.random_graphs import watts_strogatz_graph\n",
    "from networkx.generators.community import random_partition_graph\n",
    "\n",
    "import networkx as nx\n",
    "import numpy as np\n",
    "import matplotlib.pyplot as plt\n",
    "\n",
    "import math\n",
    "from tqdm import tqdm\n",
    "import seaborn as sns\n",
    "from sklearn.decomposition import FactorAnalysis\n",
    "\n",
    "import random\n",
    "from deeprobust.graph.data import Dataset\n",
    "\n"
   ]
  },
  {
   "cell_type": "markdown",
   "id": "4e3cdf81",
   "metadata": {},
   "source": [
    "# Real Datasets Import"
   ]
  },
  {
   "cell_type": "code",
   "execution_count": 3,
   "id": "0a67e2b0",
   "metadata": {},
   "outputs": [],
   "source": [
    "dataset_name = 'cora' #other datatsets : 'citeseer' , 'polblogs' , 'acm'"
   ]
  },
  {
   "cell_type": "code",
   "execution_count": 4,
   "id": "616dd4ec",
   "metadata": {},
   "outputs": [],
   "source": [
    "ori_nodes =  2708\n",
    "## citeseer : 3312\n",
    "## cora     : 2708\n",
    "## polblogs : 1490\n",
    "## acm      : 3025"
   ]
  },
  {
   "cell_type": "code",
   "execution_count": 6,
   "id": "8ec7ff87",
   "metadata": {},
   "outputs": [
    {
     "name": "stdout",
     "output_type": "stream",
     "text": [
      "Loading polblogs dataset...\n",
      "Downloading from https://raw.githubusercontent.com/danielzuegner/gnn-meta-attack/master/data/polblogs.npz to polblogs.npz\n",
      "Done!\n",
      "[[0. 1. 0. ... 0. 0. 0.]\n",
      " [1. 0. 0. ... 0. 0. 0.]\n",
      " [0. 0. 0. ... 0. 0. 0.]\n",
      " ...\n",
      " [0. 0. 0. ... 0. 1. 0.]\n",
      " [0. 0. 0. ... 1. 0. 0.]\n",
      " [0. 0. 0. ... 0. 0. 0.]]\n",
      "[[1. 0. 0. ... 0. 0. 0.]\n",
      " [0. 1. 0. ... 0. 0. 0.]\n",
      " [0. 0. 1. ... 0. 0. 0.]\n",
      " ...\n",
      " [0. 0. 0. ... 1. 0. 0.]\n",
      " [0. 0. 0. ... 0. 1. 0.]\n",
      " [0. 0. 0. ... 0. 0. 1.]]\n",
      "[[26. -1.  0. ...  0.  0.  0.]\n",
      " [-1. 45.  0. ...  0.  0.  0.]\n",
      " [ 0.  0.  0. ...  0.  0.  0.]\n",
      " ...\n",
      " [ 0.  0.  0. ...  1. -1.  0.]\n",
      " [ 0.  0.  0. ... -1. 18.  0.]\n",
      " [ 0.  0.  0. ...  0.  0.  1.]]\n"
     ]
    }
   ],
   "source": [
    "data = Dataset(root='', name=dataset_name, setting='gcn',seed=10)\n",
    "adj, features, labels = data.adj, data.features, data.labels\n",
    "idx_train, idx_val, idx_test = data.idx_train, data.idx_val, data.idx_test\n",
    "\n",
    "A = np.array(adj.todense())\n",
    "X=np.array(features.todense())\n",
    "np.save(\"A.npy\", A)\n",
    "print(A)\n",
    "#np.save(\"X.npy\", X)\n",
    "print(X)\n",
    "import numpy as np\n",
    "b=np.ones(ori_nodes)\n",
    "\n",
    "z=A@b\n",
    "D=np.diag(z)\n",
    "L=D-A\n",
    "print(L)"
   ]
  },
  {
   "cell_type": "code",
   "execution_count": 15,
   "id": "3de9ff52",
   "metadata": {},
   "outputs": [
    {
     "data": {
      "text/plain": [
       "(1490, 5000)"
      ]
     },
     "execution_count": 15,
     "metadata": {},
     "output_type": "execute_result"
    }
   ],
   "source": [
    "##ONLY for polblogs\n",
    "\n",
    "n = 5000\n",
    "X = np.random.multivariate_normal(np.zeros(1490), np.linalg.pinv(L), n).T\n",
    "X.shape"
   ]
  },
  {
   "cell_type": "markdown",
   "id": "83458ada",
   "metadata": {},
   "source": [
    "#### Minnesota, Airfoil and Bunny datasets have been taken from pygsp library "
   ]
  },
  {
   "cell_type": "code",
   "execution_count": null,
   "id": "8c85d7ac",
   "metadata": {},
   "outputs": [],
   "source": [
    "import pygsp as gsp\n",
    "from pygsp import graphs\n",
    "G=graphs.Airfoil()\n",
    "print(G.N)\n",
    "L=G.L.toarray()\n",
    "print(L)"
   ]
  },
  {
   "cell_type": "markdown",
   "id": "0012448c",
   "metadata": {},
   "source": [
    "# Creating Synthetic Datasets."
   ]
  },
  {
   "cell_type": "code",
   "execution_count": null,
   "id": "ceefecda",
   "metadata": {},
   "outputs": [],
   "source": [
    "# Some Input parameters.\n",
    "p=1000 # number of nodes\n",
    "param = 0.1  \n",
    "#graph = erdos_renyi_graph(p, param, directed = False)\n",
    "#graph = nx.barabasi_albert_graph(n=p,m=20)\n",
    "#graph = watts_strogatz_graph(p,20,param,seed=12)\n",
    "graph=nx.random_geometric_graph(p,param)\n",
    "\n",
    "\n",
    "# DISPLAY GENERATED GRAPH.\n",
    "print(graph.edges)\n",
    "print(graph.nodes)\n",
    "# PLOTTING GENERATED GRAPH.\n",
    "nx.draw(graph, with_labels = True)\n",
    "plt.title(\"Laplacian\")\n",
    "plt.show()\n",
    "# CREATING EDGE WEIGHTS.\n",
    "W = np.zeros((p, p))\n",
    "for (x, y) in graph.edges:\n",
    "    W[x][y] = 1     #weight of edge between x and y\n",
    "W_t = W + W.T\n",
    "# CALCULATING LAPLACIAN MATRIX OF GENERATED GRAPH.\n",
    "L = np.diag(W_t@np.ones((W_t.shape[0]))) - W_t\n",
    "print(L)\n",
    "print(L.shape)"
   ]
  },
  {
   "cell_type": "code",
   "execution_count": null,
   "id": "7a34e777",
   "metadata": {},
   "outputs": [],
   "source": [
    "# Creating Fetures for any synthetic graph:\n",
    "n = 5000 # number of features of each node.\n",
    "X = np.random.multivariate_normal(np.zeros(p), np.linalg.pinv(L), n).T\n",
    "X.shape\n",
    "print(X)"
   ]
  },
  {
   "cell_type": "markdown",
   "id": "f737a422",
   "metadata": {},
   "source": [
    "### LVE and LVN "
   ]
  },
  {
   "cell_type": "code",
   "execution_count": null,
   "id": "aadf1717",
   "metadata": {},
   "outputs": [],
   "source": [
    "import libraries.graph_utils\n",
    "from libraries.coarsening_utils import *\n",
    "\n",
    "import numpy as np\n",
    "import scipy as sp\n",
    "\n",
    "import matplotlib\n",
    "import matplotlib.pylab as plt\n",
    "from mpl_toolkits.mplot3d import Axes3D\n",
    "\n",
    "import networkx as nx\n",
    "import pygsp as gsp\n",
    "from pygsp import graphs\n",
    "gsp.plotting.BACKEND = 'matplotlib'"
   ]
  },
  {
   "cell_type": "code",
   "execution_count": null,
   "id": "0f94c5bc",
   "metadata": {},
   "outputs": [],
   "source": [
    "#Graph Construction using weight matrix.\n",
    "from pygsp import graphs\n",
    "import numpy as np\n",
    "G = graphs.Graph(A) # Real Datasets\n",
    "G = graphs.Graph(W) # Synthetic Datasets"
   ]
  },
  {
   "cell_type": "code",
   "execution_count": 16,
   "id": "2c25a94c",
   "metadata": {},
   "outputs": [
    {
     "name": "stderr",
     "output_type": "stream",
     "text": [
      "C:\\Users\\USER\\Downloads\\FCG\\libraries\\coarsening_utils.py:437: RuntimeWarning: invalid value encountered in double_scalars\n",
      "  return np.linalg.norm(B.T @ L @ B)/(nc-1)\n"
     ]
    }
   ],
   "source": [
    "\n",
    "method = 'variation_neighborhood'  \n",
    "\n",
    "\n",
    "# Parameters\n",
    "r    = 0.7 # the extend of dimensionality reduction (r=0 means no reduction)\n",
    "k    = 100  \n",
    "kmax = 100\n",
    "        \n",
    "C2, Gc, Call, Gall = coarsen(G, K=k, r=r, method=method) \n",
    "#metricss = coarsening_quality(GG, CC, kmax)"
   ]
  },
  {
   "cell_type": "code",
   "execution_count": 17,
   "id": "28ac48d7",
   "metadata": {},
   "outputs": [],
   "source": [
    "method = 'variation_edges'  \n",
    "\n",
    "# Parameters\n",
    "r    = 0.7 # the extend of dimensionality reduction (r=0 means no reduction)\n",
    "k    = 100  \n",
    "kmax = 100\n",
    "        \n",
    "C1, Gc, Call, Gall = coarsen(G, K=k, r=r, method=method) "
   ]
  },
  {
   "cell_type": "code",
   "execution_count": null,
   "id": "3974ac04",
   "metadata": {},
   "outputs": [],
   "source": [
    "method = 'kron'  \n",
    "\n",
    "# Parameters\n",
    "r    = 0.7 # the extend of dimensionality reduction (r=0 means no reduction)\n",
    "k    = 100  \n",
    "kmax = 100\n",
    "        \n",
    "C1, Gc, Call, Gall = coarsen(G, K=k, r=r, method=method) "
   ]
  },
  {
   "cell_type": "code",
   "execution_count": null,
   "id": "79cb5471",
   "metadata": {},
   "outputs": [],
   "source": [
    "method = 'heavy_edge'  \n",
    "\n",
    "# Parameters\n",
    "r    = 0.7 # the extend of dimensionality reduction (r=0 means no reduction)\n",
    "k    = 100  \n",
    "kmax = 100\n",
    "        \n",
    "C1, Gc, Call, Gall = coarsen(G, K=k, r=r, method=method) "
   ]
  },
  {
   "cell_type": "markdown",
   "id": "adcfbb12",
   "metadata": {},
   "source": [
    "From above, we got, C (coarsened) matrix. We compute Lc using C and then Xc using C."
   ]
  },
  {
   "cell_type": "markdown",
   "id": "1f0583ec",
   "metadata": {},
   "source": [
    "### Evaluate REE and DE. "
   ]
  },
  {
   "cell_type": "code",
   "execution_count": 18,
   "id": "6a9fb104",
   "metadata": {},
   "outputs": [
    {
     "name": "stdout",
     "output_type": "stream",
     "text": [
      " eigen_error \n",
      "(0.882930460794789+0j)\n"
     ]
    },
    {
     "name": "stderr",
     "output_type": "stream",
     "text": [
      "C:\\Users\\USER\\anaconda3\\lib\\site-packages\\numpy\\core\\_asarray.py:102: ComplexWarning: Casting complex values to real discards the imaginary part\n",
      "  return array(a, dtype, copy=False, order=order)\n",
      "C:\\Users\\USER\\anaconda3\\lib\\site-packages\\numpy\\core\\_asarray.py:102: ComplexWarning: Casting complex values to real discards the imaginary part\n",
      "  return array(a, dtype, copy=False, order=order)\n"
     ]
    },
    {
     "data": {
      "image/png": "[encoded data removed]",
      "text/plain": [
       "<Figure size 432x288 with 1 Axes>"
      ]
     },
     "metadata": {
      "needs_background": "light"
     },
     "output_type": "display_data"
    },
    {
     "name": "stdout",
     "output_type": "stream",
     "text": [
      "2658757.8433449236\n",
      "6113760.193609843\n",
      "1000.7273237140694\n"
     ]
    }
   ],
   "source": [
    "C=C2 # or C1\n",
    "eigen_values,eigenvectors=np.linalg.eig(L)\n",
    "\n",
    "s=np.sort(eigen_values)\n",
    "\n",
    "eigen_value,eigenvector=np.linalg.eig(C@L@C.T)\n",
    "\n",
    "z=np.sort(eigen_value) \n",
    "s_new=s[-100:]\n",
    "z_new=z[-100:]\n",
    "temp=0\n",
    "for j in range(len(s_new)):\n",
    "  temp=temp+(abs(z_new[j]-s_new[j])/s_new[j])\n",
    "eigenerror=temp/len(s_new)\n",
    "print(\" eigen_error \")\n",
    "print(eigenerror)\n",
    "plt.plot(s_new, label=\"original\")\n",
    "plt.plot(z_new, label=\"coarsened\")\n",
    "plt.legend()\n",
    "plt.show()\n",
    "X_t_0=C@X\n",
    "print(np.trace(X_t_0.T@C@L@C.T@X_t_0))\n",
    "#X = np.load('X (5).npy')\n",
    "print(np.trace(X.T@L@X))\n",
    "error=np.linalg.norm(X-(C.T@X_t_0))\n",
    "print(error)    \n",
    "\n"
   ]
  },
  {
   "cell_type": "markdown",
   "id": "b2f3c234",
   "metadata": {},
   "source": [
    "### Hyperbolic Error "
   ]
  },
  {
   "cell_type": "code",
   "execution_count": null,
   "id": "80b83e88",
   "metadata": {},
   "outputs": [],
   "source": [
    "def HE(u,v):\n",
    "    return np.arccosh(1+((pow(np.linalg.norm((u-v)@X),2)*pow(np.linalg.norm(X),2))/(2*np.trace(X.T@u@X)*np.trace(X.T@v@X))))"
   ]
  },
  {
   "cell_type": "code",
   "execution_count": null,
   "id": "19d615bf",
   "metadata": {},
   "outputs": [],
   "source": [
    "L_var=C2.T@C2@L@C2.T@C2\n",
    "HE(L_var,L)"
   ]
  },
  {
   "cell_type": "markdown",
   "id": "840541e3",
   "metadata": {},
   "source": [
    "### Reconstructional Error "
   ]
  },
  {
   "cell_type": "code",
   "execution_count": null,
   "id": "a00c8214",
   "metadata": {},
   "outputs": [],
   "source": [
    "#For cora\n",
    "p=2708 # put p = no. of nodes in the graph network. \n",
    "L_var=C2.T@C2@L@C2.T@C2\n",
    "LL=(L-L_var)\n",
    "np.log(pow(np.linalg.norm(LL),2)/p)"
   ]
  }
 ],
 "metadata": {
  "kernelspec": {
   "display_name": "Python 3",
   "language": "python",
   "name": "python3"
  },
  "language_info": {
   "codemirror_mode": {
    "name": "ipython",
    "version": 3
   },
   "file_extension": ".py",
   "mimetype": "text/x-python",
   "name": "python",
   "nbconvert_exporter": "python",
   "pygments_lexer": "ipython3",
   "version": "3.8.8"
  }
 },
 "nbformat": 4,
 "nbformat_minor": 5
}

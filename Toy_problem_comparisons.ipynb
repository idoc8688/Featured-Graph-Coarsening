{
 "cells": [
  {
   "cell_type": "markdown",
   "metadata": {},
   "source": [
    "### Import Liberies"
   ]
  },
  {
   "cell_type": "code",
   "execution_count": 9,
   "metadata": {},
   "outputs": [
    {
     "name": "stderr",
     "output_type": "stream",
     "text": [
      "8415.94s - pydevd: Sending message related to process being replaced timed-out after 5 seconds\n"
     ]
    },
    {
     "name": "stdout",
     "output_type": "stream",
     "text": [
      "Requirement already satisfied: deeprobust in /home/sidoc/anaconda3/envs/GCenv/lib/python3.9/site-packages (0.2.9)\n",
      "Requirement already satisfied: matplotlib>=3.1.1 in /home/sidoc/anaconda3/envs/GCenv/lib/python3.9/site-packages (from deeprobust) (3.8.0)\n",
      "Requirement already satisfied: numpy>=1.17.1 in /home/sidoc/anaconda3/envs/GCenv/lib/python3.9/site-packages (from deeprobust) (1.26.4)\n",
      "Requirement already satisfied: torch>=1.2.0 in /home/sidoc/anaconda3/envs/GCenv/lib/python3.9/site-packages (from deeprobust) (2.2.1)\n",
      "Requirement already satisfied: scipy>=1.3.1 in /home/sidoc/anaconda3/envs/GCenv/lib/python3.9/site-packages (from deeprobust) (1.11.4)\n",
      "Requirement already satisfied: torchvision>=0.4.0 in /home/sidoc/anaconda3/envs/GCenv/lib/python3.9/site-packages (from deeprobust) (0.17.1)\n",
      "Requirement already satisfied: texttable>=1.6.2 in /home/sidoc/anaconda3/envs/GCenv/lib/python3.9/site-packages (from deeprobust) (1.7.0)\n",
      "Requirement already satisfied: networkx>=2.4 in /home/sidoc/anaconda3/envs/GCenv/lib/python3.9/site-packages (from deeprobust) (3.1)\n",
      "Requirement already satisfied: numba>=0.48.0 in /home/sidoc/anaconda3/envs/GCenv/lib/python3.9/site-packages (from deeprobust) (0.59.0)\n",
      "Requirement already satisfied: Pillow>=7.0.0 in /home/sidoc/anaconda3/envs/GCenv/lib/python3.9/site-packages (from deeprobust) (10.2.0)\n",
      "Requirement already satisfied: scikit-learn>=0.22.1 in /home/sidoc/anaconda3/envs/GCenv/lib/python3.9/site-packages (from deeprobust) (1.3.0)\n",
      "Requirement already satisfied: scikit-image>=0.0 in /home/sidoc/anaconda3/envs/GCenv/lib/python3.9/site-packages (from deeprobust) (0.22.0)\n",
      "Requirement already satisfied: tensorboardX>=2.0 in /home/sidoc/anaconda3/envs/GCenv/lib/python3.9/site-packages (from deeprobust) (2.6.2.2)\n",
      "Requirement already satisfied: tqdm>=3.0 in /home/sidoc/anaconda3/envs/GCenv/lib/python3.9/site-packages (from deeprobust) (4.65.0)\n",
      "Requirement already satisfied: gensim<4.0,>=3.8 in /home/sidoc/anaconda3/envs/GCenv/lib/python3.9/site-packages (from deeprobust) (3.8.3)\n",
      "Requirement already satisfied: six>=1.5.0 in /home/sidoc/anaconda3/envs/GCenv/lib/python3.9/site-packages (from gensim<4.0,>=3.8->deeprobust) (1.16.0)\n",
      "Requirement already satisfied: smart-open>=1.8.1 in /home/sidoc/anaconda3/envs/GCenv/lib/python3.9/site-packages (from gensim<4.0,>=3.8->deeprobust) (7.0.0)\n",
      "Requirement already satisfied: contourpy>=1.0.1 in /home/sidoc/anaconda3/envs/GCenv/lib/python3.9/site-packages (from matplotlib>=3.1.1->deeprobust) (1.2.0)\n",
      "Requirement already satisfied: cycler>=0.10 in /home/sidoc/anaconda3/envs/GCenv/lib/python3.9/site-packages (from matplotlib>=3.1.1->deeprobust) (0.11.0)\n",
      "Requirement already satisfied: fonttools>=4.22.0 in /home/sidoc/anaconda3/envs/GCenv/lib/python3.9/site-packages (from matplotlib>=3.1.1->deeprobust) (4.25.0)\n",
      "Requirement already satisfied: kiwisolver>=1.0.1 in /home/sidoc/anaconda3/envs/GCenv/lib/python3.9/site-packages (from matplotlib>=3.1.1->deeprobust) (1.4.4)\n",
      "Requirement already satisfied: packaging>=20.0 in /home/sidoc/anaconda3/envs/GCenv/lib/python3.9/site-packages (from matplotlib>=3.1.1->deeprobust) (23.2)\n",
      "Requirement already satisfied: pyparsing>=2.3.1 in /home/sidoc/anaconda3/envs/GCenv/lib/python3.9/site-packages (from matplotlib>=3.1.1->deeprobust) (3.0.9)\n",
      "Requirement already satisfied: python-dateutil>=2.7 in /home/sidoc/anaconda3/envs/GCenv/lib/python3.9/site-packages (from matplotlib>=3.1.1->deeprobust) (2.8.2)\n",
      "Requirement already satisfied: importlib-resources>=3.2.0 in /home/sidoc/anaconda3/envs/GCenv/lib/python3.9/site-packages (from matplotlib>=3.1.1->deeprobust) (6.1.1)\n",
      "Requirement already satisfied: llvmlite<0.43,>=0.42.0dev0 in /home/sidoc/anaconda3/envs/GCenv/lib/python3.9/site-packages (from numba>=0.48.0->deeprobust) (0.42.0)\n",
      "Requirement already satisfied: imageio>=2.27 in /home/sidoc/anaconda3/envs/GCenv/lib/python3.9/site-packages (from scikit-image>=0.0->deeprobust) (2.34.0)\n",
      "Requirement already satisfied: tifffile>=2022.8.12 in /home/sidoc/anaconda3/envs/GCenv/lib/python3.9/site-packages (from scikit-image>=0.0->deeprobust) (2024.2.12)\n",
      "Requirement already satisfied: lazy_loader>=0.3 in /home/sidoc/anaconda3/envs/GCenv/lib/python3.9/site-packages (from scikit-image>=0.0->deeprobust) (0.3)\n",
      "Requirement already satisfied: joblib>=1.1.1 in /home/sidoc/anaconda3/envs/GCenv/lib/python3.9/site-packages (from scikit-learn>=0.22.1->deeprobust) (1.2.0)\n",
      "Requirement already satisfied: threadpoolctl>=2.0.0 in /home/sidoc/anaconda3/envs/GCenv/lib/python3.9/site-packages (from scikit-learn>=0.22.1->deeprobust) (2.2.0)\n",
      "Requirement already satisfied: protobuf>=3.20 in /home/sidoc/anaconda3/envs/GCenv/lib/python3.9/site-packages (from tensorboardX>=2.0->deeprobust) (4.25.3)\n",
      "Requirement already satisfied: filelock in /home/sidoc/anaconda3/envs/GCenv/lib/python3.9/site-packages (from torch>=1.2.0->deeprobust) (3.13.1)\n",
      "Requirement already satisfied: typing-extensions>=4.8.0 in /home/sidoc/anaconda3/envs/GCenv/lib/python3.9/site-packages (from torch>=1.2.0->deeprobust) (4.9.0)\n",
      "Requirement already satisfied: sympy in /home/sidoc/anaconda3/envs/GCenv/lib/python3.9/site-packages (from torch>=1.2.0->deeprobust) (1.12)\n",
      "Requirement already satisfied: jinja2 in /home/sidoc/anaconda3/envs/GCenv/lib/python3.9/site-packages (from torch>=1.2.0->deeprobust) (3.1.3)\n",
      "Requirement already satisfied: fsspec in /home/sidoc/anaconda3/envs/GCenv/lib/python3.9/site-packages (from torch>=1.2.0->deeprobust) (2023.10.0)\n",
      "Requirement already satisfied: zipp>=3.1.0 in /home/sidoc/anaconda3/envs/GCenv/lib/python3.9/site-packages (from importlib-resources>=3.2.0->matplotlib>=3.1.1->deeprobust) (3.17.0)\n",
      "Requirement already satisfied: wrapt in /home/sidoc/anaconda3/envs/GCenv/lib/python3.9/site-packages (from smart-open>=1.8.1->gensim<4.0,>=3.8->deeprobust) (1.16.0)\n",
      "Requirement already satisfied: MarkupSafe>=2.0 in /home/sidoc/anaconda3/envs/GCenv/lib/python3.9/site-packages (from jinja2->torch>=1.2.0->deeprobust) (2.1.3)\n",
      "Requirement already satisfied: mpmath>=0.19 in /home/sidoc/anaconda3/envs/GCenv/lib/python3.9/site-packages (from sympy->torch>=1.2.0->deeprobust) (1.3.0)\n",
      "The autoreload extension is already loaded. To reload it, use:\n",
      "  %reload_ext autoreload\n"
     ]
    },
    {
     "name": "stderr",
     "output_type": "stream",
     "text": [
      "/tmp/ipykernel_147700/1489053705.py:6: DeprecationWarning: Importing display from IPython.core.display is deprecated since IPython 7.14, please import from IPython display\n",
      "  from IPython.core.display import display, HTML\n"
     ]
    },
    {
     "data": {
      "text/html": [
       "<style>.container { width:90% !important; }</style>"
      ],
      "text/plain": [
       "<IPython.core.display.HTML object>"
      ]
     },
     "metadata": {},
     "output_type": "display_data"
    }
   ],
   "source": [
    "!pip install deeprobust\n",
    "\n",
    "%load_ext autoreload\n",
    "%autoreload 2\n",
    "%matplotlib inline\n",
    "from IPython.core.display import display, HTML\n",
    "display(HTML(\"<style>.container { width:90% !important; }</style>\"))\n",
    "\n",
    "from networkx.generators.random_graphs import erdos_renyi_graph\n",
    "from networkx.generators.random_graphs import barabasi_albert_graph\n",
    "from networkx.generators.community import stochastic_block_model\n",
    "from networkx.generators.random_graphs import watts_strogatz_graph\n",
    "from networkx.generators.community import random_partition_graph\n",
    "\n",
    "import networkx as nx\n",
    "import numpy as np\n",
    "import matplotlib.pyplot as plt\n",
    "\n",
    "import math\n",
    "from tqdm import tqdm\n",
    "import seaborn as sns\n",
    "from sklearn.decomposition import FactorAnalysis\n",
    "import matplotlib.pyplot as plt\n",
    "\n",
    "import numpy as np\n",
    "\n",
    "import random\n",
    "from deeprobust.graph.data import Dataset\n",
    "\n",
    "import solvers_implt as solvers"
   ]
  },
  {
   "cell_type": "markdown",
   "metadata": {},
   "source": [
    "### Import Datasets\n"
   ]
  },
  {
   "cell_type": "code",
   "execution_count": 7,
   "metadata": {},
   "outputs": [
    {
     "name": "stdout",
     "output_type": "stream",
     "text": [
      "Loading polblogs dataset...\n"
     ]
    }
   ],
   "source": [
    "dataset_name = 'polblogs' #other datatsets : 'citeseer' , 'polblogs' , 'acm','cora'\n",
    "\n",
    "ori_nodes = 1490 #original number of nodes.\n",
    "## citeseer : 3312\n",
    "## cora     : 2708\n",
    "## polblogs : 1490\n",
    "## acm      : 3025\n",
    "\n",
    "data = Dataset(root='', name=dataset_name, setting='gcn',seed=10)\n",
    "adj, features, labels = data.adj, data.features, data.labels\n",
    "idx_train, idx_val, idx_test = data.idx_train, data.idx_val, data.idx_test\n",
    "\n",
    "A = np.array(adj.todense()) # Adjacency matrix\n",
    "X=np.array(features.todense()) # node featutrs \\ graph signal\n",
    "np.save(\"A.npy\", A)\n",
    "#print(A)\n",
    "#np.save(\"X.npy\", X)\n",
    "#print(X)\n",
    "\n",
    "b=np.ones(ori_nodes)\n",
    "\n",
    "z=A@b\n",
    "D=np.diag(z)\n",
    "L=D-A\n",
    "#print(L)\n",
    "\n",
    "U, S, Vh = np.linalg.svd(L, hermitian=True)\n",
    "\n",
    "eigenvalues, eigenvectors = np.linalg.eigh(L)\n",
    "#eigenvalues = np.real(eigenvalues)\n",
    "#idx = np.argsort(S)[::-1]\n",
    "#print(eigenvalues) \n",
    "\n",
    "r=0.25\n",
    "k = round(r*ori_nodes) # Coarsened graph's number of nodes i.e. k = r*ori_nodes\n",
    "U_k=U[:,:k] # column on U \n",
    "\n"
   ]
  },
  {
   "cell_type": "markdown",
   "metadata": {},
   "source": [
    " ### Run algorithms"
   ]
  },
  {
   "cell_type": "code",
   "execution_count": 8,
   "metadata": {},
   "outputs": [
    {
     "name": "stderr",
     "output_type": "stream",
     "text": [
      "  7%|▋         | 1/15 [00:11<02:43, 11.70s/it]"
     ]
    },
    {
     "name": "stdout",
     "output_type": "stream",
     "text": [
      " FGC  (XLX)\n",
      "46.16694140502796\n",
      " FGC  (gamma)\n",
      "-680528.6668377243\n",
      " FGC  (alpha)\n",
      "363374.415230701\n",
      " FGC  (lambda)\n",
      "372500.0\n"
     ]
    },
    {
     "name": "stderr",
     "output_type": "stream",
     "text": [
      " 13%|█▎        | 2/15 [00:23<02:31, 11.62s/it]"
     ]
    },
    {
     "name": "stdout",
     "output_type": "stream",
     "text": [
      " FGC  (XLX)\n",
      "25972.44621725029\n",
      " FGC  (gamma)\n",
      "1137900.3631203119\n",
      " FGC  (alpha)\n",
      "339759.9839003856\n",
      " FGC  (lambda)\n",
      "372500.0\n"
     ]
    },
    {
     "name": "stderr",
     "output_type": "stream",
     "text": [
      " 20%|██        | 3/15 [00:34<02:18, 11.56s/it]"
     ]
    },
    {
     "name": "stdout",
     "output_type": "stream",
     "text": [
      " FGC  (XLX)\n",
      "30920.839491830942\n",
      " FGC  (gamma)\n",
      "1191931.3734388205\n",
      " FGC  (alpha)\n",
      "382959.7812721854\n",
      " FGC  (lambda)\n",
      "372500.0\n"
     ]
    },
    {
     "name": "stderr",
     "output_type": "stream",
     "text": [
      " 27%|██▋       | 4/15 [00:46<02:06, 11.50s/it]"
     ]
    },
    {
     "name": "stdout",
     "output_type": "stream",
     "text": [
      " FGC  (XLX)\n",
      "32229.69371384142\n",
      " FGC  (gamma)\n",
      "1204651.589560953\n",
      " FGC  (alpha)\n",
      "399934.95423234085\n",
      " FGC  (lambda)\n",
      "372500.0\n"
     ]
    },
    {
     "name": "stderr",
     "output_type": "stream",
     "text": [
      " 27%|██▋       | 4/15 [00:47<02:10, 11.86s/it]\n"
     ]
    },
    {
     "ename": "KeyboardInterrupt",
     "evalue": "",
     "output_type": "error",
     "traceback": [
      "\u001b[0;31m---------------------------------------------------------------------------\u001b[0m",
      "\u001b[0;31mKeyboardInterrupt\u001b[0m                         Traceback (most recent call last)",
      "\u001b[1;32m/home/sidoc/Desktop/Python/Featured-Graph-Coarsening/Featured-Graph-Coarsening/Toy_problem_comparisons.ipynb Cell 6\u001b[0m line \u001b[0;36m1\n\u001b[1;32m     <a href='vscode-notebook-cell:/home/sidoc/Desktop/Python/Featured-Graph-Coarsening/Featured-Graph-Coarsening/Toy_problem_comparisons.ipynb#W5sZmlsZQ%3D%3D?line=9'>10</a>\u001b[0m gamma_base \u001b[39m=\u001b[39m X\u001b[39m.\u001b[39mshape[\u001b[39m1\u001b[39m]\u001b[39m/\u001b[39m\u001b[39m2\u001b[39m\n\u001b[1;32m     <a href='vscode-notebook-cell:/home/sidoc/Desktop/Python/Featured-Graph-Coarsening/Featured-Graph-Coarsening/Toy_problem_comparisons.ipynb#W5sZmlsZQ%3D%3D?line=11'>12</a>\u001b[0m obj \u001b[39m=\u001b[39m solvers\u001b[39m.\u001b[39msolver_v2(L, X, k, lambda_base, beta_base, alpha_base, gamma_base) \n\u001b[0;32m---> <a href='vscode-notebook-cell:/home/sidoc/Desktop/Python/Featured-Graph-Coarsening/Featured-Graph-Coarsening/Toy_problem_comparisons.ipynb#W5sZmlsZQ%3D%3D?line=12'>13</a>\u001b[0m C_0, X_t_0, loss_ls \u001b[39m=\u001b[39m obj\u001b[39m.\u001b[39;49mfit(iterations)\n\u001b[1;32m     <a href='vscode-notebook-cell:/home/sidoc/Desktop/Python/Featured-Graph-Coarsening/Featured-Graph-Coarsening/Toy_problem_comparisons.ipynb#W5sZmlsZQ%3D%3D?line=13'>14</a>\u001b[0m overall_loss\u001b[39m.\u001b[39mextend(loss_ls)\n\u001b[1;32m     <a href='vscode-notebook-cell:/home/sidoc/Desktop/Python/Featured-Graph-Coarsening/Featured-Graph-Coarsening/Toy_problem_comparisons.ipynb#W5sZmlsZQ%3D%3D?line=15'>16</a>\u001b[0m \u001b[39m#lambda_my = 500\u001b[39;00m\n\u001b[1;32m     <a href='vscode-notebook-cell:/home/sidoc/Desktop/Python/Featured-Graph-Coarsening/Featured-Graph-Coarsening/Toy_problem_comparisons.ipynb#W5sZmlsZQ%3D%3D?line=16'>17</a>\u001b[0m \u001b[39m#beta_my = 0\u001b[39;00m\n\u001b[1;32m     <a href='vscode-notebook-cell:/home/sidoc/Desktop/Python/Featured-Graph-Coarsening/Featured-Graph-Coarsening/Toy_problem_comparisons.ipynb#W5sZmlsZQ%3D%3D?line=17'>18</a>\u001b[0m \u001b[39m#alpha_my = 500\u001b[39;00m\n\u001b[0;32m   (...)\u001b[0m\n\u001b[1;32m     <a href='vscode-notebook-cell:/home/sidoc/Desktop/Python/Featured-Graph-Coarsening/Featured-Graph-Coarsening/Toy_problem_comparisons.ipynb#W5sZmlsZQ%3D%3D?line=22'>23</a>\u001b[0m \u001b[39m#C_0_my, X_t_0_my, loss_ls_my = obj_my.fit(iterations)\u001b[39;00m\n\u001b[1;32m     <a href='vscode-notebook-cell:/home/sidoc/Desktop/Python/Featured-Graph-Coarsening/Featured-Graph-Coarsening/Toy_problem_comparisons.ipynb#W5sZmlsZQ%3D%3D?line=23'>24</a>\u001b[0m \u001b[39m#overall_loss_my.extend(loss_ls_my)\u001b[39;00m\n",
      "File \u001b[0;32m~/Desktop/Python/Featured-Graph-Coarsening/Featured-Graph-Coarsening/solvers_implt.py:129\u001b[0m, in \u001b[0;36msolver_v2.fit\u001b[0;34m(self, max_iters)\u001b[0m\n\u001b[1;32m    125\u001b[0m \u001b[39mfor\u001b[39;00m i \u001b[39min\u001b[39;00m tqdm(\u001b[39mrange\u001b[39m(max_iters)):\n\u001b[1;32m    126\u001b[0m   \u001b[39m#for _ in range(MAX_ITER_INT):\u001b[39;00m\n\u001b[1;32m    127\u001b[0m     \u001b[39m#self.update_w()\u001b[39;00m\n\u001b[1;32m    128\u001b[0m   \u001b[39mfor\u001b[39;00m _ \u001b[39min\u001b[39;00m \u001b[39mrange\u001b[39m(MAX_ITER_INT):\n\u001b[0;32m--> 129\u001b[0m     \u001b[39mself\u001b[39;49m\u001b[39m.\u001b[39;49mupdate_C(\u001b[39m1\u001b[39;49m\u001b[39m/\u001b[39;49m\u001b[39mself\u001b[39;49m\u001b[39m.\u001b[39;49mk)\n\u001b[1;32m    130\u001b[0m   \u001b[39m# for _ in range(MAX_ITER_INT):\u001b[39;00m\n\u001b[1;32m    131\u001b[0m   \u001b[39mself\u001b[39m\u001b[39m.\u001b[39mupdate_X_tilde()\n",
      "File \u001b[0;32m~/Desktop/Python/Featured-Graph-Coarsening/Featured-Graph-Coarsening/solvers_implt.py:110\u001b[0m, in \u001b[0;36msolver_v2.update_C\u001b[0;34m(self, lr)\u001b[0m\n\u001b[1;32m    108\u001b[0m lr \u001b[39m=\u001b[39m \u001b[39mself\u001b[39m\u001b[39m.\u001b[39mgetLR()\n\u001b[1;32m    109\u001b[0m C \u001b[39m=\u001b[39m \u001b[39mself\u001b[39m\u001b[39m.\u001b[39mC\n\u001b[0;32m--> 110\u001b[0m C \u001b[39m=\u001b[39m C \u001b[39m-\u001b[39m lr\u001b[39m*\u001b[39m\u001b[39mself\u001b[39;49m\u001b[39m.\u001b[39;49mgrad_C()\n\u001b[1;32m    111\u001b[0m C[C\u001b[39m<\u001b[39m\u001b[39mself\u001b[39m\u001b[39m.\u001b[39mthresh] \u001b[39m=\u001b[39m \u001b[39mself\u001b[39m\u001b[39m.\u001b[39mthresh\n\u001b[1;32m    112\u001b[0m \u001b[39mself\u001b[39m\u001b[39m.\u001b[39mC \u001b[39m=\u001b[39m C\n",
      "File \u001b[0;32m~/Desktop/Python/Featured-Graph-Coarsening/Featured-Graph-Coarsening/solvers_implt.py:96\u001b[0m, in \u001b[0;36msolver_v2.grad_C\u001b[0;34m(self)\u001b[0m\n\u001b[1;32m     93\u001b[0m \u001b[39mdef\u001b[39;00m \u001b[39mgrad_C\u001b[39m(\u001b[39mself\u001b[39m):\n\u001b[1;32m     94\u001b[0m   \u001b[39m#L = np.load('L (5).npy')\u001b[39;00m\n\u001b[1;32m     95\u001b[0m   J \u001b[39m=\u001b[39m np\u001b[39m.\u001b[39mouter(np\u001b[39m.\u001b[39mones(\u001b[39mself\u001b[39m\u001b[39m.\u001b[39mk), np\u001b[39m.\u001b[39mones(\u001b[39mself\u001b[39m\u001b[39m.\u001b[39mk))\u001b[39m/\u001b[39m\u001b[39mself\u001b[39m\u001b[39m.\u001b[39mk\n\u001b[0;32m---> 96\u001b[0m   v\u001b[39m=\u001b[39mnp\u001b[39m.\u001b[39;49mlinalg\u001b[39m.\u001b[39;49mpinv(\u001b[39mself\u001b[39;49m\u001b[39m.\u001b[39;49mC\u001b[39m.\u001b[39;49mT\u001b[39m@self\u001b[39;49m\u001b[39m.\u001b[39;49mL\u001b[39m@self\u001b[39;49m\u001b[39m.\u001b[39;49mC \u001b[39m+\u001b[39;49m J)\n\u001b[1;32m     97\u001b[0m   gradC \u001b[39m=\u001b[39m np\u001b[39m.\u001b[39mzeros(\u001b[39mself\u001b[39m\u001b[39m.\u001b[39mC\u001b[39m.\u001b[39mshape)\n\u001b[1;32m     98\u001b[0m   gradC \u001b[39m+\u001b[39m\u001b[39m=\u001b[39m \u001b[39mself\u001b[39m\u001b[39m.\u001b[39malpha_param\u001b[39m*\u001b[39m((\u001b[39mself\u001b[39m\u001b[39m.\u001b[39mC\u001b[39m@self\u001b[39m\u001b[39m.\u001b[39mX_tilde \u001b[39m-\u001b[39m \u001b[39mself\u001b[39m\u001b[39m.\u001b[39mX)\u001b[39m@self\u001b[39m\u001b[39m.\u001b[39mX_tilde\u001b[39m.\u001b[39mT)\n",
      "File \u001b[0;32m~/anaconda3/envs/GCenv/lib/python3.9/site-packages/numpy/linalg/linalg.py:2030\u001b[0m, in \u001b[0;36mpinv\u001b[0;34m(a, rcond, hermitian)\u001b[0m\n\u001b[1;32m   2027\u001b[0m s \u001b[39m=\u001b[39m divide(\u001b[39m1\u001b[39m, s, where\u001b[39m=\u001b[39mlarge, out\u001b[39m=\u001b[39ms)\n\u001b[1;32m   2028\u001b[0m s[\u001b[39m~\u001b[39mlarge] \u001b[39m=\u001b[39m \u001b[39m0\u001b[39m\n\u001b[0;32m-> 2030\u001b[0m res \u001b[39m=\u001b[39m matmul(transpose(vt), multiply(s[\u001b[39m.\u001b[39;49m\u001b[39m.\u001b[39;49m\u001b[39m.\u001b[39;49m, newaxis], transpose(u)))\n\u001b[1;32m   2031\u001b[0m \u001b[39mreturn\u001b[39;00m wrap(res)\n",
      "\u001b[0;31mKeyboardInterrupt\u001b[0m: "
     ]
    }
   ],
   "source": [
    "overall_loss = []\n",
    "overall_loss_my = []\n",
    "iterations = 15 # Number of iterations our objective function will run.\n",
    "#print(\"Shape of the data matrix (p x n): \", X_now.shape)\n",
    "\n",
    "# Hyperparameters: lambda, beta, alpha, gamma\n",
    "lambda_base = 500\n",
    "beta_base = 0\n",
    "alpha_base = 500\n",
    "gamma_base = X.shape[1]/2\n",
    "\n",
    "obj = solvers.solver_v2(L, X, k, lambda_base, beta_base, alpha_base, gamma_base) \n",
    "C_0, X_t_0, loss_ls = obj.fit(iterations)\n",
    "overall_loss.extend(loss_ls)\n",
    "\n",
    "#lambda_my = 500\n",
    "#beta_my = 0\n",
    "#alpha_my = 500\n",
    "#gamma_my = X.shape[1]/2\n",
    "\n",
    "#obj_my = solvers.my_method(L, X, k, lambda_my, beta_my, alpha_my, gamma_my, U_k)\n",
    "\n",
    "#C_0_my, X_t_0_my, loss_ls_my = obj_my.fit(iterations)\n",
    "#overall_loss_my.extend(loss_ls_my)\n",
    "\n"
   ]
  },
  {
   "cell_type": "code",
   "execution_count": null,
   "metadata": {},
   "outputs": [
    {
     "name": "stderr",
     "output_type": "stream",
     "text": [
      "  0%|          | 0/15 [00:00<?, ?it/s]"
     ]
    },
    {
     "name": "stdout",
     "output_type": "stream",
     "text": [
      " my  (ev)\n",
      "1.786873737189297\n",
      " my  (alpha)\n",
      "374394.9923894264\n",
      " my  (lambda)\n",
      "372500.0\n",
      " my  new\n"
     ]
    },
    {
     "name": "stderr",
     "output_type": "stream",
     "text": [
      "  7%|▋         | 1/15 [01:24<19:43, 84.54s/it]"
     ]
    },
    {
     "name": "stdout",
     "output_type": "stream",
     "text": [
      "276.40641148851574\n",
      " my  (ev)\n",
      "301.1234807261792\n",
      " my  (alpha)\n",
      "617694.3334667289\n",
      " my  (lambda)\n",
      "372500.0\n",
      " my  new\n"
     ]
    },
    {
     "name": "stderr",
     "output_type": "stream",
     "text": [
      " 13%|█▎        | 2/15 [02:48<18:17, 84.41s/it]"
     ]
    },
    {
     "name": "stdout",
     "output_type": "stream",
     "text": [
      "464.67185219425187\n",
      " my  (ev)\n",
      "356.69081130668894\n",
      " my  (alpha)\n",
      "688058.4090606958\n",
      " my  (lambda)\n",
      "372500.0\n",
      " my  new\n"
     ]
    },
    {
     "name": "stderr",
     "output_type": "stream",
     "text": [
      " 20%|██        | 3/15 [04:13<16:51, 84.32s/it]"
     ]
    },
    {
     "name": "stdout",
     "output_type": "stream",
     "text": [
      "562.6539353459167\n",
      " my  (ev)\n",
      "368.1741562276692\n",
      " my  (alpha)\n",
      "710827.1785520568\n",
      " my  (lambda)\n",
      "372500.0\n",
      " my  new\n"
     ]
    },
    {
     "name": "stderr",
     "output_type": "stream",
     "text": [
      " 27%|██▋       | 4/15 [05:37<15:28, 84.45s/it]"
     ]
    },
    {
     "name": "stdout",
     "output_type": "stream",
     "text": [
      "585.5679682933819\n",
      " my  (ev)\n",
      "370.29152936230196\n",
      " my  (alpha)\n",
      "714885.222961036\n",
      " my  (lambda)\n",
      "372500.0\n",
      " my  new\n"
     ]
    },
    {
     "name": "stderr",
     "output_type": "stream",
     "text": [
      " 33%|███▎      | 5/15 [07:02<14:06, 84.68s/it]"
     ]
    },
    {
     "name": "stdout",
     "output_type": "stream",
     "text": [
      "589.811516413369\n",
      " my  (ev)\n",
      "371.86344816375447\n",
      " my  (alpha)\n",
      "713554.9835755173\n",
      " my  (lambda)\n",
      "372500.0\n",
      " my  new\n"
     ]
    },
    {
     "name": "stderr",
     "output_type": "stream",
     "text": [
      " 40%|████      | 6/15 [08:27<12:42, 84.77s/it]"
     ]
    },
    {
     "name": "stdout",
     "output_type": "stream",
     "text": [
      "591.4768810161944\n",
      " my  (ev)\n",
      "372.13236263357305\n",
      " my  (alpha)\n",
      "710749.7723716482\n",
      " my  (lambda)\n",
      "372500.0\n",
      " my  new\n"
     ]
    },
    {
     "name": "stderr",
     "output_type": "stream",
     "text": [
      " 47%|████▋     | 7/15 [09:52<11:17, 84.70s/it]"
     ]
    },
    {
     "name": "stdout",
     "output_type": "stream",
     "text": [
      "591.8634735223949\n",
      " my  (ev)\n",
      "372.13258258289983\n",
      " my  (alpha)\n",
      "707186.1965113413\n",
      " my  (lambda)\n",
      "372500.0\n",
      " my  new\n"
     ]
    },
    {
     "name": "stderr",
     "output_type": "stream",
     "text": [
      " 53%|█████▎    | 8/15 [11:16<09:52, 84.65s/it]"
     ]
    },
    {
     "name": "stdout",
     "output_type": "stream",
     "text": [
      "591.7602296979779\n",
      " my  (ev)\n",
      "372.13266535969103\n",
      " my  (alpha)\n",
      "703741.0087700974\n",
      " my  (lambda)\n",
      "372500.0\n",
      " my  new\n"
     ]
    },
    {
     "name": "stderr",
     "output_type": "stream",
     "text": [
      " 60%|██████    | 9/15 [12:41<08:28, 84.67s/it]"
     ]
    },
    {
     "name": "stdout",
     "output_type": "stream",
     "text": [
      "591.6600081805884\n",
      " my  (ev)\n",
      "372.132672515029\n",
      " my  (alpha)\n",
      "699978.5076073336\n",
      " my  (lambda)\n",
      "372500.0\n",
      " my  new\n"
     ]
    },
    {
     "name": "stderr",
     "output_type": "stream",
     "text": [
      " 67%|██████▋   | 10/15 [14:06<07:03, 84.69s/it]"
     ]
    },
    {
     "name": "stdout",
     "output_type": "stream",
     "text": [
      "591.495963248893\n",
      " my  (ev)\n",
      "372.13268075843393\n",
      " my  (alpha)\n",
      "696255.0411692396\n",
      " my  (lambda)\n",
      "372500.0\n"
     ]
    },
    {
     "name": "stderr",
     "output_type": "stream",
     "text": [
      " 73%|███████▎  | 11/15 [15:28<05:35, 83.89s/it]"
     ]
    },
    {
     "name": "stdout",
     "output_type": "stream",
     "text": [
      " my  new\n",
      "591.3162860530224\n",
      " my  (ev)\n",
      "372.1327023689213\n",
      " my  (alpha)\n",
      "692583.5869268231\n",
      " my  (lambda)\n",
      "372500.0\n",
      " my  new\n"
     ]
    },
    {
     "name": "stderr",
     "output_type": "stream",
     "text": [
      " 80%|████████  | 12/15 [16:47<04:07, 82.51s/it]"
     ]
    },
    {
     "name": "stdout",
     "output_type": "stream",
     "text": [
      "591.1212222844536\n",
      " my  (ev)\n",
      "372.13276023003795\n",
      " my  (alpha)\n",
      "688969.9428504541\n",
      " my  (lambda)\n",
      "372500.0\n",
      " my  new\n"
     ]
    },
    {
     "name": "stderr",
     "output_type": "stream",
     "text": [
      " 87%|████████▋ | 13/15 [18:07<02:43, 81.69s/it]"
     ]
    },
    {
     "name": "stdout",
     "output_type": "stream",
     "text": [
      "590.9123712886357\n",
      " my  (ev)\n",
      "372.1329255277639\n",
      " my  (alpha)\n",
      "685457.1947177983\n",
      " my  (lambda)\n",
      "372500.0\n",
      " my  new\n"
     ]
    },
    {
     "name": "stderr",
     "output_type": "stream",
     "text": [
      " 93%|█████████▎| 14/15 [19:27<01:21, 81.02s/it]"
     ]
    },
    {
     "name": "stdout",
     "output_type": "stream",
     "text": [
      "590.6986338765944\n",
      " my  (ev)\n",
      "372.13302030763816\n",
      " my  (alpha)\n",
      "681979.5618812407\n",
      " my  (lambda)\n",
      "372500.0000000001\n",
      " my  new\n"
     ]
    },
    {
     "name": "stderr",
     "output_type": "stream",
     "text": [
      "100%|██████████| 15/15 [20:46<00:00, 83.12s/it]"
     ]
    },
    {
     "name": "stdout",
     "output_type": "stream",
     "text": [
      "590.4602882038673\n"
     ]
    },
    {
     "name": "stderr",
     "output_type": "stream",
     "text": [
      "\n"
     ]
    }
   ],
   "source": [
    "overall_loss_my = []\n",
    "\n",
    "lambda_my_2 = 500\n",
    "beta_my_2 = 0\n",
    "alpha_my_2 = 500\n",
    "gamma_my_2 = X.shape[1]/2\n",
    "\n",
    "obj_my_2 = solvers.my_method_v2(L, X, k, lambda_my_2, beta_my_2, alpha_my_2, gamma_my_2, U_k)\n",
    "\n",
    "C_0_my, X_t_0_my, loss_ls_my = obj_my_2.fit(iterations)\n",
    "overall_loss_my.extend(loss_ls_my)"
   ]
  },
  {
   "cell_type": "code",
   "execution_count": null,
   "metadata": {},
   "outputs": [
    {
     "data": {
      "image/png": "[encoded data removed]",
      "text/plain": [
       "<Figure size 640x480 with 1 Axes>"
      ]
     },
     "metadata": {},
     "output_type": "display_data"
    }
   ],
   "source": [
    "import matplotlib.pyplot as plt\n",
    "\n",
    "plt.plot(overall_loss, label='FGC')\n",
    "\n",
    "# Create a plot for the second list\n",
    "plt.plot(overall_loss_my, label='my')\n",
    "\n",
    "# Add title, labels, and legend\n",
    "plt.title('Comparison of Two methods')\n",
    "plt.xlabel('Index')\n",
    "plt.ylabel('Value')\n",
    "plt.legend()\n",
    "\n",
    "# Show the plot\n",
    "plt.show()"
   ]
  },
  {
   "cell_type": "markdown",
   "metadata": {},
   "source": [
    "### Performance measures - REE ,DE, \n"
   ]
  },
  {
   "cell_type": "code",
   "execution_count": null,
   "metadata": {},
   "outputs": [
    {
     "name": "stdout",
     "output_type": "stream",
     "text": [
      " FGC eigen_error  (REE)\n",
      "(0.1747731973386877+0j)\n",
      " my eigen_error  (REE)\n",
      "(0.21153370855795733+0j)\n"
     ]
    },
    {
     "data": {
      "image/png": "[encoded data removed]",
      "text/plain": [
       "<Figure size 640x480 with 1 Axes>"
      ]
     },
     "metadata": {},
     "output_type": "display_data"
    }
   ],
   "source": [
    "\n",
    "# compare C_0 (FGC), C_0_my\n",
    "eigen_values,eigenvectors=np.linalg.eig(L)\n",
    "\n",
    "eigen_values_all=np.sort(eigen_values)\n",
    "\n",
    "FGC_eigen_values,FGC_eigenvector=np.linalg.eig(C_0.T@L@C_0)\n",
    "my_eigen_values,FGC_eigenvector=np.linalg.eig(C_0_my.T@L@C_0_my)\n",
    "\n",
    "FGC_eigen_values_all=np.sort(FGC_eigen_values)\n",
    "my_eigen_values_all=np.sort(my_eigen_values)\n",
    "\n",
    "\n",
    "eigen_values_k=eigen_values_all[-100:] # take the biggest k eigenvalues\n",
    "FGC_eigen_values_k=FGC_eigen_values_all[-100:]\n",
    "my_eigen_values_k=my_eigen_values_all[-100:]\n",
    "\n",
    "temp_FGC=0\n",
    "temp_my=0\n",
    "\n",
    "for j in range(len(eigen_values_k)):\n",
    "  temp_FGC=temp_FGC+(abs(FGC_eigen_values_k[j]-eigen_values_k[j])/eigen_values_k[j])\n",
    "  temp_my=temp_my+(abs(my_eigen_values_k[j]-eigen_values_k[j])/eigen_values_k[j])\n",
    "eigenerror_FGC=temp_FGC/len(eigen_values_k)\n",
    "eigenerror_my=temp_my/len(eigen_values_k)\n",
    "\n",
    "print(\" FGC eigen_error  (REE)\")\n",
    "print(eigenerror_FGC)\n",
    "print(\" my eigen_error  (REE)\")\n",
    "print(eigenerror_my)\n",
    "\n",
    "\n",
    "plt.plot(eigen_values_k, label=\"original\")\n",
    "plt.plot(my_eigen_values_k, label=\"my coarsened\")\n",
    "plt.plot(FGC_eigen_values_k, label=\"FGC coarsened\")\n",
    "plt.title('Eigen_value_comparison')\n",
    "plt.legend()\n",
    "plt.show()\n"
   ]
  },
  {
   "cell_type": "markdown",
   "metadata": {},
   "source": [
    "### Hyperbolic Error "
   ]
  },
  {
   "cell_type": "code",
   "execution_count": null,
   "metadata": {},
   "outputs": [],
   "source": [
    "def HE(u,v):\n",
    "    return np.arccosh(1+((pow(np.linalg.norm((u-v)@X),2)*pow(np.linalg.norm(X),2))/(2*np.trace(X.T@u@X)*np.trace(X.T@v@X))))"
   ]
  },
  {
   "cell_type": "code",
   "execution_count": null,
   "metadata": {},
   "outputs": [
    {
     "name": "stdout",
     "output_type": "stream",
     "text": [
      " FGC Hyperbolic Error  (HE)\n",
      "1.6480604078589611\n",
      " my Hyperbolic Error  (HE)\n",
      "1.946167825638518\n"
     ]
    }
   ],
   "source": [
    "P_0=np.linalg.pinv(C_0)\n",
    "P_0_my=np.linalg.pinv(C_0_my)\n",
    "\n",
    "\n",
    "L_FGC=P_0.T@C_0.T@L@C_0@P_0\n",
    "L_my=P_0_my.T@C_0_my.T@L@C_0_my@P_0_my\n",
    "FGC_HE_error=HE(L_FGC,L)\n",
    "my_HE_error=HE(L_my,L)\n",
    "\n",
    "\n",
    "print(\" FGC Hyperbolic Error  (HE)\")\n",
    "print(FGC_HE_error)\n",
    "print(\" my Hyperbolic Error  (HE)\")\n",
    "print(my_HE_error)"
   ]
  },
  {
   "cell_type": "code",
   "execution_count": null,
   "metadata": {},
   "outputs": [
    {
     "name": "stdout",
     "output_type": "stream",
     "text": [
      " Reconstruction Error  (RE)\n",
      "8.123891817502154\n",
      " Reconstruction Error  (RE)\n",
      "8.427473015667339\n"
     ]
    }
   ],
   "source": [
    "LL_FGC=(L-L_FGC)\n",
    "LL_my=(L-L_my)\n",
    "\n",
    "FGC_RE_error=np.log(pow(np.linalg.norm(LL_FGC),2)/k)\n",
    "my_RE_error=np.log(pow(np.linalg.norm(LL_my),2)/k)\n",
    "\n",
    "print(\" Reconstruction Error  (RE)\")\n",
    "print(FGC_RE_error)\n",
    "print(\" Reconstruction Error  (RE)\")\n",
    "print(my_RE_error)"
   ]
  },
  {
   "cell_type": "code",
   "execution_count": null,
   "metadata": {},
   "outputs": [],
   "source": [
    "C_0_new=np.zeros(C_0.shape)\n",
    "C_0_my_new=np.zeros(C_0.shape)\n",
    "\n",
    "\n",
    "for i in range(C_0.shape[0]):\n",
    "    C_0_new[i][np.argmax(C_0[i])]=1\n",
    "    C_0_my_new[i][np.argmax(C_0_my[i])]=1\n",
    "\n",
    "test=C_0_my_new.T@C_0_my_new\n",
    "test2=C_0_new.T@C_0_new"
   ]
  },
  {
   "cell_type": "code",
   "execution_count": null,
   "metadata": {},
   "outputs": [
    {
     "name": "stdout",
     "output_type": "stream",
     "text": [
      " FGC Hyperbolic Error  (HE)\n",
      "1.64806040801807\n",
      " my Hyperbolic Error  (HE)\n",
      "1.9461678258932442\n",
      " Reconstruction Error  (RE)\n",
      "8.123891817630227\n",
      " Reconstruction Error  (RE)\n",
      "8.427473015826822\n"
     ]
    }
   ],
   "source": [
    "\n",
    "P_0_new=np.linalg.pinv(C_0_new)\n",
    "P_0_my_new=np.linalg.pinv(C_0_my_new)\n",
    "\n",
    "\n",
    "L_FGC_new=P_0_new.T@C_0_new.T@L@C_0_new@P_0_new\n",
    "L_my_new=P_0_my_new.T@C_0_my_new.T@L@C_0_my_new@P_0_my_new\n",
    "FGC_HE_error=HE(L_FGC_new,L)\n",
    "my_HE_error=HE(L_my_new,L)\n",
    "\n",
    "\n",
    "print(\" FGC Hyperbolic Error  (HE)\")\n",
    "print(FGC_HE_error)\n",
    "print(\" my Hyperbolic Error  (HE)\")\n",
    "print(my_HE_error)\n",
    "\n",
    "LL_FGC=(L-L_FGC_new)\n",
    "LL_my=(L-L_my_new)\n",
    "\n",
    "FGC_RE_error=np.log(pow(np.linalg.norm(LL_FGC),2)/k)\n",
    "my_RE_error=np.log(pow(np.linalg.norm(LL_my),2)/k)\n",
    "\n",
    "print(\" Reconstruction Error  (RE)\")\n",
    "print(FGC_RE_error)\n",
    "print(\" Reconstruction Error  (RE)\")\n",
    "print(my_RE_error)"
   ]
  },
  {
   "cell_type": "markdown",
   "metadata": {},
   "source": [
    "### DE and INP"
   ]
  },
  {
   "cell_type": "code",
   "execution_count": null,
   "metadata": {},
   "outputs": [
    {
     "name": "stdout",
     "output_type": "stream",
     "text": [
      "33430.0\n",
      "126012.24578370692\n",
      "133783.02296994743\n",
      "10884.57842827487\n",
      "8446.217907615277\n"
     ]
    }
   ],
   "source": [
    "#X = np.asarray(X, dtype=np.float64)\n",
    "norms = np.linalg.norm(X, axis=0)\n",
    "norms[norms == 0] = 1\n",
    "X_n = X / norms\n",
    "\n",
    "norms = np.linalg.norm(X_t_0, axis=0)\n",
    "norms[norms == 0] = 1\n",
    "X_t_0_n = X_t_0 / norms\n",
    "\n",
    "norms = np.linalg.norm(X_t_0_my, axis=0)\n",
    "norms[norms == 0] = 1\n",
    "X_t_0_my_n = X_t_0_my / norms\n",
    "\n",
    "DE_FGC = np.trace(X_t_0_n.T@C_0_new.T@L@C_0_new@X_t_0_n)\n",
    "DE_orig= np.trace(X_n.T@L@X_n)\n",
    "DE_my = np.trace(X_t_0_my_n.T@C_0_my_new.T@L@C_0_my_new@X_t_0_my_n)\n",
    "print(DE_orig)\n",
    "print(DE_FGC)\n",
    "print(DE_my)\n",
    "\n",
    "INP_FGC=np.linalg.norm(X_n.T@L@X_n-(X_t_0_n.T@C_0_new.T@L@C_0_new@X_t_0_n))\n",
    "INP_my=np.linalg.norm(X_n.T@L@X_n-(X_t_0_my_n.T@C_0_my_new.T@L@C_0_my_new@X_t_0_my_n))\n",
    "print(INP_FGC)\n",
    "print(INP_my)"
   ]
  },
  {
   "cell_type": "code",
   "execution_count": null,
   "metadata": {},
   "outputs": [],
   "source": [
    "norms = np.linalg.norm(X_t_0_my, axis=0)\n",
    "X_t_0_my = X_t_0_my / norms.T\n"
   ]
  },
  {
   "cell_type": "markdown",
   "metadata": {},
   "source": []
  }
 ],
 "metadata": {
  "kernelspec": {
   "display_name": "myenv",
   "language": "python",
   "name": "python3"
  },
  "language_info": {
   "codemirror_mode": {
    "name": "ipython",
    "version": 3
   },
   "file_extension": ".py",
   "mimetype": "text/x-python",
   "name": "python",
   "nbconvert_exporter": "python",
   "pygments_lexer": "ipython3",
   "version": "3.9.18"
  }
 },
 "nbformat": 4,
 "nbformat_minor": 2
}

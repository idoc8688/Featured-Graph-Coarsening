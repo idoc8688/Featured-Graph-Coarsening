{
 "cells": [
  {
   "cell_type": "markdown",
   "metadata": {},
   "source": [
    "### Importing Libraries"
   ]
  },
  {
   "cell_type": "code",
   "execution_count": 1,
   "metadata": {},
   "outputs": [
    {
     "name": "stdout",
     "output_type": "stream",
     "text": [
      "Requirement already satisfied: deeprobust in c:\\programdata\\anaconda3\\envs\\myenv\\lib\\site-packages (0.2.9)\n",
      "Requirement already satisfied: matplotlib>=3.1.1 in c:\\programdata\\anaconda3\\envs\\myenv\\lib\\site-packages (from deeprobust) (3.8.0)\n",
      "Requirement already satisfied: numpy>=1.17.1 in c:\\programdata\\anaconda3\\envs\\myenv\\lib\\site-packages (from deeprobust) (1.26.3)\n",
      "Requirement already satisfied: torch>=1.2.0 in c:\\programdata\\anaconda3\\envs\\myenv\\lib\\site-packages (from deeprobust) (2.1.2)\n",
      "Requirement already satisfied: scipy>=1.3.1 in c:\\programdata\\anaconda3\\envs\\myenv\\lib\\site-packages (from deeprobust) (1.11.4)\n",
      "Requirement already satisfied: torchvision>=0.4.0 in c:\\programdata\\anaconda3\\envs\\myenv\\lib\\site-packages (from deeprobust) (0.16.2)\n",
      "Requirement already satisfied: texttable>=1.6.2 in c:\\programdata\\anaconda3\\envs\\myenv\\lib\\site-packages (from deeprobust) (1.7.0)\n",
      "Requirement already satisfied: networkx>=2.4 in c:\\programdata\\anaconda3\\envs\\myenv\\lib\\site-packages (from deeprobust) (3.2.1)\n",
      "Requirement already satisfied: numba>=0.48.0 in c:\\programdata\\anaconda3\\envs\\myenv\\lib\\site-packages (from deeprobust) (0.58.1)\n",
      "Requirement already satisfied: Pillow>=7.0.0 in c:\\programdata\\anaconda3\\envs\\myenv\\lib\\site-packages (from deeprobust) (10.0.1)\n",
      "Requirement already satisfied: scikit-learn>=0.22.1 in c:\\programdata\\anaconda3\\envs\\myenv\\lib\\site-packages (from deeprobust) (1.3.2)\n",
      "Requirement already satisfied: scikit-image>=0.0 in c:\\programdata\\anaconda3\\envs\\myenv\\lib\\site-packages (from deeprobust) (0.22.0)\n",
      "Requirement already satisfied: tensorboardX>=2.0 in c:\\programdata\\anaconda3\\envs\\myenv\\lib\\site-packages (from deeprobust) (2.6.2.2)\n",
      "Requirement already satisfied: tqdm>=3.0 in c:\\programdata\\anaconda3\\envs\\myenv\\lib\\site-packages (from deeprobust) (4.66.1)\n",
      "Requirement already satisfied: gensim<4.0,>=3.8 in c:\\programdata\\anaconda3\\envs\\myenv\\lib\\site-packages (from deeprobust) (3.8.3)\n",
      "Requirement already satisfied: six>=1.5.0 in c:\\programdata\\anaconda3\\envs\\myenv\\lib\\site-packages (from gensim<4.0,>=3.8->deeprobust) (1.16.0)\n",
      "Requirement already satisfied: smart-open>=1.8.1 in c:\\programdata\\anaconda3\\envs\\myenv\\lib\\site-packages (from gensim<4.0,>=3.8->deeprobust) (6.4.0)\n",
      "Requirement already satisfied: contourpy>=1.0.1 in c:\\programdata\\anaconda3\\envs\\myenv\\lib\\site-packages (from matplotlib>=3.1.1->deeprobust) (1.2.0)\n",
      "Requirement already satisfied: cycler>=0.10 in c:\\programdata\\anaconda3\\envs\\myenv\\lib\\site-packages (from matplotlib>=3.1.1->deeprobust) (0.11.0)\n",
      "Requirement already satisfied: fonttools>=4.22.0 in c:\\programdata\\anaconda3\\envs\\myenv\\lib\\site-packages (from matplotlib>=3.1.1->deeprobust) (4.25.0)\n",
      "Requirement already satisfied: kiwisolver>=1.0.1 in c:\\programdata\\anaconda3\\envs\\myenv\\lib\\site-packages (from matplotlib>=3.1.1->deeprobust) (1.4.4)\n",
      "Requirement already satisfied: packaging>=20.0 in c:\\programdata\\anaconda3\\envs\\myenv\\lib\\site-packages (from matplotlib>=3.1.1->deeprobust) (23.1)\n",
      "Requirement already satisfied: pyparsing>=2.3.1 in c:\\programdata\\anaconda3\\envs\\myenv\\lib\\site-packages (from matplotlib>=3.1.1->deeprobust) (3.0.9)\n",
      "Requirement already satisfied: python-dateutil>=2.7 in c:\\programdata\\anaconda3\\envs\\myenv\\lib\\site-packages (from matplotlib>=3.1.1->deeprobust) (2.8.2)\n",
      "Requirement already satisfied: importlib-resources>=3.2.0 in c:\\programdata\\anaconda3\\envs\\myenv\\lib\\site-packages (from matplotlib>=3.1.1->deeprobust) (6.1.1)\n",
      "Requirement already satisfied: llvmlite<0.42,>=0.41.0dev0 in c:\\programdata\\anaconda3\\envs\\myenv\\lib\\site-packages (from numba>=0.48.0->deeprobust) (0.41.1)\n",
      "Requirement already satisfied: imageio>=2.27 in c:\\programdata\\anaconda3\\envs\\myenv\\lib\\site-packages (from scikit-image>=0.0->deeprobust) (2.33.1)\n",
      "Requirement already satisfied: tifffile>=2022.8.12 in c:\\programdata\\anaconda3\\envs\\myenv\\lib\\site-packages (from scikit-image>=0.0->deeprobust) (2023.12.9)\n",
      "Requirement already satisfied: lazy_loader>=0.3 in c:\\programdata\\anaconda3\\envs\\myenv\\lib\\site-packages (from scikit-image>=0.0->deeprobust) (0.3)\n",
      "Requirement already satisfied: joblib>=1.1.1 in c:\\programdata\\anaconda3\\envs\\myenv\\lib\\site-packages (from scikit-learn>=0.22.1->deeprobust) (1.3.2)\n",
      "Requirement already satisfied: threadpoolctl>=2.0.0 in c:\\programdata\\anaconda3\\envs\\myenv\\lib\\site-packages (from scikit-learn>=0.22.1->deeprobust) (3.2.0)\n",
      "Requirement already satisfied: protobuf>=3.20 in c:\\programdata\\anaconda3\\envs\\myenv\\lib\\site-packages (from tensorboardX>=2.0->deeprobust) (4.25.1)\n",
      "Requirement already satisfied: filelock in c:\\programdata\\anaconda3\\envs\\myenv\\lib\\site-packages (from torch>=1.2.0->deeprobust) (3.13.1)\n",
      "Requirement already satisfied: typing-extensions in c:\\programdata\\anaconda3\\envs\\myenv\\lib\\site-packages (from torch>=1.2.0->deeprobust) (4.9.0)\n",
      "Requirement already satisfied: sympy in c:\\programdata\\anaconda3\\envs\\myenv\\lib\\site-packages (from torch>=1.2.0->deeprobust) (1.12)\n",
      "Requirement already satisfied: jinja2 in c:\\programdata\\anaconda3\\envs\\myenv\\lib\\site-packages (from torch>=1.2.0->deeprobust) (3.1.2)\n",
      "Requirement already satisfied: fsspec in c:\\programdata\\anaconda3\\envs\\myenv\\lib\\site-packages (from torch>=1.2.0->deeprobust) (2023.12.2)\n",
      "Requirement already satisfied: requests in c:\\programdata\\anaconda3\\envs\\myenv\\lib\\site-packages (from torchvision>=0.4.0->deeprobust) (2.31.0)\n",
      "Requirement already satisfied: colorama in c:\\programdata\\anaconda3\\envs\\myenv\\lib\\site-packages (from tqdm>=3.0->deeprobust) (0.4.6)\n",
      "Requirement already satisfied: zipp>=3.1.0 in c:\\programdata\\anaconda3\\envs\\myenv\\lib\\site-packages (from importlib-resources>=3.2.0->matplotlib>=3.1.1->deeprobust) (3.17.0)\n",
      "Requirement already satisfied: MarkupSafe>=2.0 in c:\\programdata\\anaconda3\\envs\\myenv\\lib\\site-packages (from jinja2->torch>=1.2.0->deeprobust) (2.1.3)\n",
      "Requirement already satisfied: charset-normalizer<4,>=2 in c:\\programdata\\anaconda3\\envs\\myenv\\lib\\site-packages (from requests->torchvision>=0.4.0->deeprobust) (3.3.2)\n",
      "Requirement already satisfied: idna<4,>=2.5 in c:\\programdata\\anaconda3\\envs\\myenv\\lib\\site-packages (from requests->torchvision>=0.4.0->deeprobust) (3.6)\n",
      "Requirement already satisfied: urllib3<3,>=1.21.1 in c:\\programdata\\anaconda3\\envs\\myenv\\lib\\site-packages (from requests->torchvision>=0.4.0->deeprobust) (2.1.0)\n",
      "Requirement already satisfied: certifi>=2017.4.17 in c:\\programdata\\anaconda3\\envs\\myenv\\lib\\site-packages (from requests->torchvision>=0.4.0->deeprobust) (2023.11.17)\n",
      "Requirement already satisfied: mpmath>=0.19 in c:\\programdata\\anaconda3\\envs\\myenv\\lib\\site-packages (from sympy->torch>=1.2.0->deeprobust) (1.3.0)\n"
     ]
    }
   ],
   "source": [
    "!pip install deeprobust"
   ]
  },
  {
   "cell_type": "code",
   "execution_count": 2,
   "metadata": {},
   "outputs": [
    {
     "name": "stderr",
     "output_type": "stream",
     "text": [
      "C:\\Users\\Mor\\AppData\\Local\\Temp\\ipykernel_13328\\2103474578.py:4: DeprecationWarning: Importing display from IPython.core.display is deprecated since IPython 7.14, please import from IPython display\n",
      "  from IPython.core.display import display, HTML\n"
     ]
    },
    {
     "data": {
      "text/html": [
       "<style>.container { width:90% !important; }</style>"
      ],
      "text/plain": [
       "<IPython.core.display.HTML object>"
      ]
     },
     "metadata": {},
     "output_type": "display_data"
    }
   ],
   "source": [
    "%load_ext autoreload\n",
    "%autoreload 2\n",
    "%matplotlib inline\n",
    "from IPython.core.display import display, HTML\n",
    "display(HTML(\"<style>.container { width:90% !important; }</style>\"))\n",
    "\n",
    "from networkx.generators.random_graphs import erdos_renyi_graph\n",
    "from networkx.generators.random_graphs import barabasi_albert_graph\n",
    "from networkx.generators.community import stochastic_block_model\n",
    "from networkx.generators.random_graphs import watts_strogatz_graph\n",
    "from networkx.generators.community import random_partition_graph\n",
    "\n",
    "import networkx as nx\n",
    "import numpy as np\n",
    "import matplotlib.pyplot as plt\n",
    "\n",
    "import math\n",
    "from tqdm import tqdm\n",
    "import seaborn as sns\n",
    "from sklearn.decomposition import FactorAnalysis\n",
    "import matplotlib.pyplot as plt\n",
    "\n",
    "\n",
    "\n",
    "import random\n",
    "from deeprobust.graph.data import Dataset"
   ]
  },
  {
   "cell_type": "markdown",
   "metadata": {},
   "source": [
    "# Real Datasets Import"
   ]
  },
  {
   "cell_type": "code",
   "execution_count": 3,
   "metadata": {},
   "outputs": [],
   "source": [
    "dataset_name = 'cora' #other datatsets : 'citeseer' , 'polblogs' , 'acm'"
   ]
  },
  {
   "cell_type": "code",
   "execution_count": 4,
   "metadata": {},
   "outputs": [],
   "source": [
    "ori_nodes = 2708 #original number of nodes.\n",
    "## citeseer : 3312\n",
    "## cora     : 2708\n",
    "## polblogs : 1490\n",
    "## acm      : 3025"
   ]
  },
  {
   "cell_type": "code",
   "execution_count": 5,
   "metadata": {},
   "outputs": [
    {
     "name": "stdout",
     "output_type": "stream",
     "text": [
      "Loading cora dataset...\n",
      "[[0. 0. 0. ... 0. 0. 0.]\n",
      " [0. 0. 0. ... 0. 0. 0.]\n",
      " [0. 0. 0. ... 0. 0. 0.]\n",
      " ...\n",
      " [0. 0. 0. ... 0. 0. 0.]\n",
      " [0. 0. 0. ... 0. 0. 0.]\n",
      " [0. 0. 0. ... 0. 0. 0.]]\n",
      "[[0. 0. 0. ... 0. 0. 0.]\n",
      " [0. 0. 0. ... 0. 0. 0.]\n",
      " [0. 0. 0. ... 0. 0. 0.]\n",
      " ...\n",
      " [0. 0. 0. ... 0. 0. 0.]\n",
      " [0. 0. 1. ... 0. 0. 0.]\n",
      " [0. 0. 0. ... 0. 0. 0.]]\n",
      "[[5. 0. 0. ... 0. 0. 0.]\n",
      " [0. 4. 0. ... 0. 0. 0.]\n",
      " [0. 0. 1. ... 0. 0. 0.]\n",
      " ...\n",
      " [0. 0. 0. ... 6. 0. 0.]\n",
      " [0. 0. 0. ... 0. 5. 0.]\n",
      " [0. 0. 0. ... 0. 0. 3.]]\n"
     ]
    }
   ],
   "source": [
    "data = Dataset(root='', name=dataset_name, setting='gcn',seed=10)\n",
    "adj, features, labels = data.adj, data.features, data.labels\n",
    "idx_train, idx_val, idx_test = data.idx_train, data.idx_val, data.idx_test\n",
    "\n",
    "A = np.array(adj.todense())\n",
    "X=np.array(features.todense())\n",
    "np.save(\"A.npy\", A)\n",
    "print(A)\n",
    "#np.save(\"X.npy\", X)\n",
    "print(X)\n",
    "import numpy as np\n",
    "b=np.ones(ori_nodes)\n",
    "\n",
    "z=A@b\n",
    "D=np.diag(z)\n",
    "L=D-A\n",
    "print(L)\n",
    "\n"
   ]
  },
  {
   "cell_type": "code",
   "execution_count": 6,
   "metadata": {},
   "outputs": [],
   "source": [
    "U, S, Vh = np.linalg.svd(L, hermitian=True)\n",
    "eigenvalues, eigenvectors = np.linalg.eig(L)\n",
    "eigenvalues = np.real(eigenvalues)\n",
    "#idx = np.argsort(S)[::-1]\n",
    "#print(eigenvalues) \n",
    "\n",
    "k = 812 # Coarsened graph's number of nodes i.e. k = r*ori_nodes\n",
    "U_k=U[:,k] # column on U "
   ]
  },
  {
   "cell_type": "code",
   "execution_count": 7,
   "metadata": {},
   "outputs": [
    {
     "data": {
      "image/png": "[encoded data removed]",
      "text/plain": [
       "<Figure size 640x480 with 1 Axes>"
      ]
     },
     "metadata": {},
     "output_type": "display_data"
    },
    {
     "name": "stdout",
     "output_type": "stream",
     "text": [
      "13.357363991197435\n"
     ]
    },
    {
     "data": {
      "image/png": "[encoded data removed]",
      "text/plain": [
       "<Figure size 640x480 with 1 Axes>"
      ]
     },
     "metadata": {},
     "output_type": "display_data"
    },
    {
     "data": {
      "image/png": "[encoded data removed]",
      "text/plain": [
       "<Figure size 640x480 with 1 Axes>"
      ]
     },
     "metadata": {},
     "output_type": "display_data"
    }
   ],
   "source": [
    "# Below shown for Cora.\n",
    "k = 812 # Coarsened graph's number of nodes i.e. k = r*ori_nodes\n",
    "U_k=U[:,k] # column on U \n",
    "# fig= plt.figure()\n",
    "\n",
    "plt.plot(U_k)\n",
    "plt.ylabel('some numbers')\n",
    "plt.show()\n",
    "print(S[70]) \n",
    "overall_loss = []\n",
    "iterations = 10 # Number of iterations our objective function will run.\n",
    "#print(\"Shape of the data matrix (p x n): \", X_now.shape)\n",
    "plt.plot(S)\n",
    "plt.ylabel('some numbers')\n",
    "plt.show()\n",
    "b=U_k@L\n",
    "\n",
    "plt.plot(b)\n",
    "plt.ylabel('some numbers')\n",
    "plt.show()"
   ]
  },
  {
   "cell_type": "code",
   "execution_count": 8,
   "metadata": {},
   "outputs": [],
   "source": [
    "class solver_v2:\n",
    "\n",
    "  def __init__(self, X, k, lambda_param, beta_param, alpha_param, gamma_param):\n",
    "    self.X = X\n",
    "    self.p = X.shape[0]\n",
    "    self.k = k\n",
    "    self.n = X.shape[1]\n",
    "    \n",
    "    n = self.n\n",
    "    k = self.k\n",
    "    p = self.p\n",
    "    \n",
    "    self.thresh = 1e-10 # The 0-level\n",
    "\n",
    "    # Basic initialization (Completely random)\n",
    "    self.X_tilde = np.random.normal(0, 1, (k, n))\n",
    "    \n",
    "    self.C = np.random.normal(0,1,(p,k))\n",
    "    self.C[self.C < self.thresh] = self.thresh\n",
    "    \n",
    "    self.w = np.random.normal(10, 1, (k*(k-1))//2)\n",
    "    self.w[self.w < self.thresh] = self.thresh\n",
    "\n",
    "\n",
    "    # Model Hyperparameters\n",
    "    self.beta_param = beta_param\n",
    "    self.alpha_param = alpha_param\n",
    "    self.lambda_param = lambda_param\n",
    "    self.gamma_param = gamma_param\n",
    "    self.iters = 0\n",
    "    self.lr0 = 1e-5\n",
    "\n",
    "  def getLR(self):\n",
    "    a = 0.99\n",
    "    return self.lr0\n",
    "\n",
    "  def calc_f(self):\n",
    "    \n",
    "    #w = self.w\n",
    "    X_tilde = self.X_tilde\n",
    "    beta_param = self.beta_param\n",
    "    #Lw = self.L_operator(w)\n",
    "    #L = np.load('L (5).npy')\n",
    "    fw = 0\n",
    "\n",
    "    fw += np.trace(X_tilde.T@self.C.T@L@self.C @X_tilde)\n",
    "    # Added the tr(X.T L X) term\n",
    "   # fw += ((beta_param*(np.linalg.norm(Lw)**2))/2)\n",
    "    # Added the Frobbenius norm term\n",
    "    J = np.outer(np.ones(self.k), np.ones(self.k))/self.k\n",
    "    fw -= self.gamma_param*np.linalg.slogdet(self.C.T@L@self.C + J)[1]\n",
    "    # Added the log_det term\n",
    "    fw += (self.alpha_param/2)*(np.linalg.norm(np.subtract(self.X, np.dot(self.C, self.X_tilde))))**2\n",
    "    # Added l2 norm || X - C*X_tilde ||\n",
    "    fw += (self.lambda_param)/2*((np.linalg.norm(np.dot(self.C, np.ones((self.k, 1)))))**2)\n",
    "    # Added L_1,2 norm || C ||\n",
    "    return fw\n",
    "\n",
    "  def update_X_tilde(self):\n",
    "    #L = np.load('L (5).npy')\n",
    "    L_tilde = self.C.T@L@self.C\n",
    "    A = 2*L_tilde/(self.alpha_param)\n",
    "    A = A + np.dot(self.C.T, self.C)\n",
    "    b = np.dot(self.C.T, self.X)\n",
    "    # Update 1\n",
    "    self.X_tilde = np.linalg.pinv(A)@b\n",
    "\n",
    "    # Update 2\n",
    "    # lr = self.getLR()\n",
    "    # self.X_tilde = self.X_tilde - lr*self.alpha_param*(A@self.X_tilde - b)\n",
    "\n",
    "    # #new update:\n",
    "    for i in range(len(self.X_tilde)):\n",
    "      self.X_tilde[i] = (self.X_tilde[i]/(np.linalg.norm(self.X_tilde[i])))\n",
    "\n",
    "\n",
    "    return None\n",
    "\n",
    "  def grad_C(self):\n",
    "    #L = np.load('L (5).npy')\n",
    "    J = np.outer(np.ones(k), np.ones(k))/k\n",
    "    v=np.linalg.pinv(self.C.T@L@self.C + J)\n",
    "    gradC = np.zeros(self.C.shape)\n",
    "    gradC += self.alpha_param*((self.C@self.X_tilde - self.X)@self.X_tilde.T)\n",
    "    gradC += (self.lambda_param) * (np.abs(self.C) @ (np.ones((self.k, self.k))))\n",
    "    gradC += -2*(self.gamma_param)*L@self.C@v\n",
    "    gradC += 2*L@self.C@self.X_tilde@self.X_tilde.T\n",
    "    \n",
    "    return gradC\n",
    "\n",
    "  def update_C(self, lr = None):\n",
    "    if not lr:\n",
    "      lr = 1/ (self.k)\n",
    "    lr = self.getLR()\n",
    "    C = self.C\n",
    "    C = C - lr*self.grad_C()\n",
    "    C[C<self.thresh] = self.thresh\n",
    "    self.C = C\n",
    "    C = self.C.copy()\n",
    "\n",
    "    for i in range(len(C)):\n",
    "      C[i] = C[i]/np.linalg.norm(C[i],1)\n",
    "\n",
    "    self.C = C.copy()\n",
    "    return None\n",
    "\n",
    "  \n",
    "  def fit(self, max_iters):\n",
    "    ls = []\n",
    "    MAX_ITER_INT = 100\n",
    "    for i in tqdm(range(max_iters)):\n",
    "      #for _ in range(MAX_ITER_INT):\n",
    "        #self.update_w()\n",
    "      for _ in range(MAX_ITER_INT):\n",
    "        self.update_C(1/self.k)\n",
    "      # for _ in range(MAX_ITER_INT):\n",
    "      self.update_X_tilde()\n",
    "      ls.append(self.calc_f())\n",
    "      self.iters+=1\n",
    "      #print(self.C@self.C.T)\n",
    "      #print()\n",
    "\n",
    "    return (self.C, self.X_tilde, ls )\n",
    "\n",
    "  def New_fit(self):\n",
    "    ls=[]\n",
    "    MAX_ITER_INT = 100\n",
    "    while(True):\n",
    "      C_prev=self.C\n",
    "      self.update_C(1/self.k)\n",
    "      self.update_X_tilde()\n",
    "      ls.append(self.calc_f())\n",
    "      self.iters+=1\n",
    "      if(np.linalg.norm(self.C-C_prev)<0.1): # we have set the threshold for stopping criteria as 0.1.\n",
    "          return (self.C, self.X_tilde, ls )      \n",
    "    return (self.C, self.X_tilde, ls )    \n",
    "\n",
    "  def set_experiment(self, X, X_t):\n",
    "    self.X = X\n",
    "    self.X_tilde = X_t"
   ]
  },
  {
   "cell_type": "code",
   "execution_count": 28,
   "metadata": {},
   "outputs": [],
   "source": [
    "class my_method:\n",
    "\n",
    "  def __init__(self, X, k, lambda_param, beta_param, alpha_param, gamma_param,U_k_vecs):\n",
    "    self.X = X\n",
    "    self.p = X.shape[0]\n",
    "    self.k = k\n",
    "    self.n = X.shape[1]\n",
    "    self.U_k=U_k_vecs\n",
    "    \n",
    "    n = self.n\n",
    "    k = self.k\n",
    "    p = self.p\n",
    "    U_k =self.U_k\n",
    "    \n",
    "    self.thresh = 1e-10 # The 0-level\n",
    "\n",
    "    # Basic initialization (Completely random)\n",
    "    self.X_tilde = np.random.normal(0, 1, (k, n))\n",
    "    \n",
    "    self.C = np.random.normal(0,1,(p,k))\n",
    "    self.C[self.C < self.thresh] = self.thresh\n",
    "    \n",
    "    self.w = np.random.normal(10, 1, (k*(k-1))//2)\n",
    "    self.w[self.w < self.thresh] = self.thresh\n",
    "\n",
    "\n",
    "    # Model Hyperparameters\n",
    "    self.beta_param = beta_param\n",
    "    self.alpha_param = alpha_param\n",
    "    self.lambda_param = lambda_param\n",
    "    self.gamma_param = gamma_param\n",
    "    self.iters = 0\n",
    "    self.lr0 = 1e-5\n",
    "\n",
    "  def getLR(self):\n",
    "    a = 0.99\n",
    "    return self.lr0\n",
    "\n",
    "  def calc_f(self):\n",
    "    \n",
    "    #w = self.w\n",
    "    X_tilde = self.X_tilde\n",
    "    U_k=self.U_k\n",
    "    beta_param = self.beta_param\n",
    "    #Lw = self.L_operator(w)\n",
    "    #L = np.load('L (5).npy')\n",
    "    fw = 0\n",
    "\n",
    "    fw += np.trace(U_k@U_k.T@self.C@self.C.T)\n",
    "    #fw += np.trace(X_tilde.T@self.C.T@L@self.C @X_tilde)\n",
    "    fw += (self.alpha_param/2)*(np.linalg.norm(np.subtract(self.X, np.dot(self.C, self.X_tilde))))**2\n",
    "    # Added l2 norm || X - C*X_tilde ||\n",
    "    fw += (self.lambda_param)/2*((np.linalg.norm(np.dot(self.C, np.ones((self.k, 1)))))**2)\n",
    "    # Added L_1,2 norm || C ||\n",
    "    return fw\n",
    "\n",
    "  def update_X_tilde(self):\n",
    "    #L = np.load('L (5).npy')\n",
    "    L_tilde = self.C.T@L@self.C\n",
    "    A = 2*L_tilde/(self.alpha_param)\n",
    "    A = A + np.dot(self.C.T, self.C)\n",
    "    b = np.dot(self.C.T, self.X)\n",
    "    \n",
    "    # Update 1\n",
    "    self.X_tilde = np.linalg.pinv(A)@b\n",
    "\n",
    "    # Update 2\n",
    "    # lr = self.getLR()\n",
    "    # self.X_tilde = self.X_tilde - lr*self.alpha_param*(A@self.X_tilde - b)\n",
    "\n",
    "    # #new update:\n",
    "    for i in range(len(self.X_tilde)):\n",
    "      self.X_tilde[i] = (self.X_tilde[i]/(np.linalg.norm(self.X_tilde[i])))\n",
    "\n",
    "\n",
    "    return None\n",
    "\n",
    "  def grad_C(self):\n",
    "    #L = np.load('L (5).npy')\n",
    "    J = np.outer(np.ones(k), np.ones(k))/k\n",
    "    v=np.linalg.pinv(self.C.T@L@self.C + J)\n",
    "    gradC = np.zeros(self.C.shape)\n",
    "    gradC += self.alpha_param*((self.C@self.X_tilde - self.X)@self.X_tilde.T)\n",
    "    gradC += (self.lambda_param) * (np.abs(self.C) @ (np.ones((self.k, self.k))))\n",
    "    gradC += -2*self.U_k@self.U_k.T@self.C\n",
    "    \n",
    "    #gradC += -2*(self.gamma_param)*L@self.C@v\n",
    "    #gradC += 2*L@self.C@self.X_tilde@self.X_tilde.T\n",
    "    \n",
    "    return gradC\n",
    "\n",
    "  def update_C(self, lr = None):\n",
    "    if not lr:\n",
    "      lr = 1/ (self.k)\n",
    "    lr = self.getLR()\n",
    "    C = self.C\n",
    "    C = C - lr*self.grad_C()\n",
    "    C[C<self.thresh] = self.thresh\n",
    "    self.C = C\n",
    "    C = self.C.copy()\n",
    "\n",
    "    for i in range(len(C)):\n",
    "      C[i] = C[i]/np.linalg.norm(C[i],1)\n",
    "\n",
    "    self.C = C.copy()\n",
    "    return None\n",
    "\n",
    "  \n",
    "  def fit(self, max_iters):\n",
    "    ls = []\n",
    "    MAX_ITER_INT = 100\n",
    "    for i in tqdm(range(max_iters)):\n",
    "      #for _ in range(MAX_ITER_INT):\n",
    "        #self.update_w()\n",
    "      for _ in range(MAX_ITER_INT):\n",
    "        self.update_C(1/self.k)\n",
    "      # for _ in range(MAX_ITER_INT):\n",
    "      self.update_X_tilde()\n",
    "      ls.append(self.calc_f())\n",
    "      self.iters+=1\n",
    "      #print(self.C@self.C.T)\n",
    "      #print()\n",
    "\n",
    "    return (self.C, self.X_tilde, ls )\n",
    "\n",
    "  def New_fit(self):\n",
    "    ls=[]\n",
    "    MAX_ITER_INT = 100\n",
    "    while(True):\n",
    "      C_prev=self.C\n",
    "      self.update_C(1/self.k)\n",
    "      self.update_X_tilde()\n",
    "      ls.append(self.calc_f())\n",
    "      self.iters+=1\n",
    "      if(np.linalg.norm(self.C-C_prev)<0.1): # we have set the threshold for stopping criteria as 0.1.\n",
    "          return (self.C, self.X_tilde, ls )      \n",
    "    return (self.C, self.X_tilde, ls )    \n",
    "\n",
    "  def set_experiment(self, X, X_t):\n",
    "    self.X = X\n",
    "    self.X_tilde = X_t"
   ]
  },
  {
   "cell_type": "code",
   "execution_count": 17,
   "metadata": {},
   "outputs": [
    {
     "name": "stderr",
     "output_type": "stream",
     "text": [
      "100%|██████████| 10/10 [14:54<00:00, 89.43s/it]\n"
     ]
    }
   ],
   "source": [
    "k = 812 # Coarsened graph's number of nodes i.e. k = r*ori_nodes\n",
    "\n",
    "# Below shown for Cora.\n",
    "k = 812 # Coarsened graph's number of nodes i.e. k = r*ori_nodes\n",
    "overall_loss = []\n",
    "overall_loss_my = []\n",
    "iterations = 10 # Number of iterations our objective function will run.\n",
    "#print(\"Shape of the data matrix (p x n): \", X_now.shape)\n",
    "\n",
    "# Hyperparameters: lambda, beta, alpha, gamma\n",
    "obj = solver_v2(X, k, 500, 0, 500, X.shape[1]/2) \n",
    "C_0, X_t_0, loss_ls = obj.fit(iterations)\n",
    "overall_loss.extend(loss_ls)"
   ]
  },
  {
   "cell_type": "code",
   "execution_count": 49,
   "metadata": {},
   "outputs": [
    {
     "name": "stderr",
     "output_type": "stream",
     "text": [
      "100%|██████████| 10/10 [11:21<00:00, 68.20s/it]\n"
     ]
    }
   ],
   "source": [
    "U_k=U[:,:k] # column on U \n",
    "\n",
    "\n",
    "obj_my = my_method(X, k, 250, 0, 250, X.shape[1]/2,U_k) \n",
    "C_0_my, X_t_0_my, loss_ls_my = obj_my.fit(iterations)\n",
    "overall_loss_my.extend(loss_ls_my)"
   ]
  },
  {
   "cell_type": "code",
   "execution_count": 45,
   "metadata": {},
   "outputs": [
    {
     "name": "stdout",
     "output_type": "stream",
     "text": [
      " eigen_error \n",
      "(0.18856324076429706+0j)\n"
     ]
    },
    {
     "data": {
      "image/png": "[encoded data removed]",
      "text/plain": [
       "<Figure size 640x480 with 1 Axes>"
      ]
     },
     "metadata": {},
     "output_type": "display_data"
    },
    {
     "name": "stdout",
     "output_type": "stream",
     "text": [
      "6582.814975660009\n",
      "160963.0\n"
     ]
    }
   ],
   "source": [
    "eigen_values,eigenvectors=np.linalg.eig(L)\n",
    "\n",
    "s=np.sort(eigen_values)\n",
    "\n",
    "eigen_value,eigenvector=np.linalg.eig(C_0.T@L@C_0)\n",
    "\n",
    "z=np.sort(eigen_value) \n",
    "\n",
    "\n",
    "s_new=s[-k:]\n",
    "z_new=z[-k:]\n",
    "\n",
    "temp=0\n",
    "for j in range(len(s_new)):\n",
    "  temp=temp+(abs(z_new[j]-s_new[j])/s_new[j])\n",
    "eigenerror=temp/len(s_new)\n",
    "print(\" eigen_error \")\n",
    "print(eigenerror)\n",
    "\n",
    "plt.plot(s_new, label=\"original\")\n",
    "plt.plot(z_new, label=\"coarsened\")\n",
    "plt.legend()\n",
    "plt.show()\n",
    "\n",
    "print(np.trace(X_t_0.T@C_0.T@L@C_0@X_t_0))\n",
    "print(np.trace(X.T@L@X))"
   ]
  },
  {
   "cell_type": "code",
   "execution_count": 48,
   "metadata": {},
   "outputs": [
    {
     "name": "stdout",
     "output_type": "stream",
     "text": [
      " eigen_error \n",
      "(0.30588739372317936+0j)\n"
     ]
    },
    {
     "data": {
      "image/png": "[encoded data removed]",
      "text/plain": [
       "<Figure size 640x480 with 1 Axes>"
      ]
     },
     "metadata": {},
     "output_type": "display_data"
    },
    {
     "name": "stdout",
     "output_type": "stream",
     "text": [
      "5722.55837148165\n",
      "160963.0\n"
     ]
    }
   ],
   "source": [
    "eigen_values,eigenvectors=np.linalg.eig(L)\n",
    "\n",
    "s=np.sort(eigen_values)\n",
    "\n",
    "eigen_value_my,eigenvector_my=np.linalg.eig(C_0_my.T@L@C_0_my)\n",
    "\n",
    "z=np.sort(eigen_value_my) \n",
    "\n",
    "\n",
    "s_new=s[-k:]\n",
    "z_new=z[-k:]\n",
    "\n",
    "temp=0\n",
    "for j in range(len(s_new)):\n",
    "  temp=temp+(abs(z_new[j]-s_new[j])/s_new[j])\n",
    "eigenerror=temp/len(s_new)\n",
    "print(\" eigen_error \")\n",
    "print(eigenerror)\n",
    "\n",
    "plt.plot(s_new, label=\"original\")\n",
    "plt.plot(z_new, label=\"coarsened\")\n",
    "plt.legend()\n",
    "plt.show()\n",
    "\n",
    "print(np.trace(X_t_0_my.T@C_0_my.T@L@C_0_my@X_t_0_my))\n",
    "print(np.trace(X.T@L@X))"
   ]
  },
  {
   "cell_type": "code",
   "execution_count": 37,
   "metadata": {},
   "outputs": [
    {
     "data": {
      "text/plain": [
       "11.396261429420928"
      ]
     },
     "execution_count": 37,
     "metadata": {},
     "output_type": "execute_result"
    }
   ],
   "source": [
    "P=np.linalg.pinv(C_0)\n",
    "L_lift=P.T@C_0.T@L@C_0@P\n",
    "LL=(L-L_lift)\n",
    "np.log(pow(np.linalg.norm(LL),2))"
   ]
  },
  {
   "cell_type": "code",
   "execution_count": 43,
   "metadata": {},
   "outputs": [
    {
     "data": {
      "text/plain": [
       "11.621432188469537"
      ]
     },
     "execution_count": 43,
     "metadata": {},
     "output_type": "execute_result"
    }
   ],
   "source": [
    "P_my=np.linalg.pinv(C_0_my)\n",
    "L_lift_my=P_my.T@C_0_my.T@L@C_0_my@P_my\n",
    "LL_my=(L-L_lift_my)\n",
    "np.log(pow(np.linalg.norm(LL_my),2))"
   ]
  }
 ],
 "metadata": {
  "kernelspec": {
   "display_name": "myenv",
   "language": "python",
   "name": "python3"
  },
  "language_info": {
   "codemirror_mode": {
    "name": "ipython",
    "version": 3
   },
   "file_extension": ".py",
   "mimetype": "text/x-python",
   "name": "python",
   "nbconvert_exporter": "python",
   "pygments_lexer": "ipython3",
   "version": "3.9.18"
  }
 },
 "nbformat": 4,
 "nbformat_minor": 2
}
